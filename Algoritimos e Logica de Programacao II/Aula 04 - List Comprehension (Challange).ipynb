{
 "cells": [
  {
   "cell_type": "markdown",
   "metadata": {},
   "source": [
    "3. Criar uma lista de tuplas (número, quadrado, cubo) para números primos. Dica:\n",
    "primeiro, crie uma função auxiliar para verificar se o número é primo.\n"
   ]
  },
  {
   "cell_type": "code",
   "execution_count": 12,
   "metadata": {},
   "outputs": [
    {
     "name": "stdout",
     "output_type": "stream",
     "text": [
      "[(2, 4, 8), (3, 9, 27), (5, 25, 125), (7, 49, 343)]\n"
     ]
    }
   ],
   "source": [
    "def eh_primo(n):\n",
    "    if n < 2:\n",
    "        return False\n",
    "    # Verifica se todos os números no intervalo não são divisores de n\n",
    "    return all(n % i != 0 for i in range(2, int(n**0.5) + 1))\n",
    "\n",
    "limite = 10\n",
    "resultado = [(n, n**2, n**3) for n in range(2, limite + 1) if eh_primo(n)]\n",
    "print(resultado)\n"
   ]
  },
  {
   "cell_type": "markdown",
   "metadata": {},
   "source": [
    "2. Criar um programa para filtrar palavras palíndromos de uma lista (uma palavra é\n",
    "palíndromo se pode ser lida igual de trás para frente)."
   ]
  },
  {
   "cell_type": "code",
   "execution_count": 15,
   "metadata": {},
   "outputs": [
    {
     "name": "stdout",
     "output_type": "stream",
     "text": [
      "Palíndromos encontrados: ['radar', 'civic', 'level', 'omo', 'ata']\n"
     ]
    }
   ],
   "source": [
    "def eh_palindromo(palavra):\n",
    "    return palavra == palavra[::-1]\n",
    "\n",
    "palavras = [\"radar\", \"python\", \"Ellen\", \"civic\", \"palavra\", \"level\", \"paralelepipedo\", \"omo\", \"ata\"]\n",
    "palindromos = [palavra for palavra in palavras if eh_palindromo(palavra)]\n",
    "print(\"Palíndromos encontrados:\", palindromos)"
   ]
  },
  {
   "cell_type": "markdown",
   "metadata": {},
   "source": [
    "8. Criar uma lista de tuplas com contagem de vogais e consoantes."
   ]
  },
  {
   "cell_type": "code",
   "execution_count": null,
   "metadata": {},
   "outputs": [
    {
     "name": "stdout",
     "output_type": "stream",
     "text": [
      "Lista de tuplas com contagem de vogais e consoantes:\n",
      "[('python', 1, 5), ('PC', 0, 2), ('ellen', 2, 3), ('nakalski', 3, 5), ('linguagem', 4, 5), ('Olá Mundo!', 3, 5)]\n"
     ]
    }
   ],
   "source": [
    "def contar_vogais_e_consoantes(palavra):\n",
    "    vogais = \"aeiouAEIOU\"\n",
    "    letras = [letra for letra in palavra if letra.isalpha()] \n",
    "    qtd_vogais = sum(1 for letra in letras if letra in vogais)\n",
    "    qtd_consoantes = len(letras) - qtd_vogais\n",
    "    return qtd_vogais, qtd_consoantes\n",
    "\n",
    "palavras = [\"python\", \"PC\", \"ellen\", \"nakalski\", \"linguagem\", \"Olá Mundo!\"]\n",
    "resultado = [(palavra, *contar_vogais_e_consoantes(palavra)) for palavra in palavras]\n",
    "\n",
    "print(\"Lista de tuplas com contagem de vogais e consoantes:\")\n",
    "print(resultado)"
   ]
  }
 ],
 "metadata": {
  "kernelspec": {
   "display_name": "Python 3",
   "language": "python",
   "name": "python3"
  },
  "language_info": {
   "codemirror_mode": {
    "name": "ipython",
    "version": 3
   },
   "file_extension": ".py",
   "mimetype": "text/x-python",
   "name": "python",
   "nbconvert_exporter": "python",
   "pygments_lexer": "ipython3",
   "version": "3.12.7"
  }
 },
 "nbformat": 4,
 "nbformat_minor": 2
}
