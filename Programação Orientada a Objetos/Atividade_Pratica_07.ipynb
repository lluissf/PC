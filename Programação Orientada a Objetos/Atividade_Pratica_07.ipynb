{
 "cells": [
  {
   "cell_type": "code",
   "execution_count": 12,
   "id": "01f14d1b",
   "metadata": {},
   "outputs": [
    {
     "name": "stdout",
     "output_type": "stream",
     "text": [
      "Olá Admin, Baltazar\n"
     ]
    }
   ],
   "source": [
    "class Usuario:\n",
    "    def __init__(self, nomeUsuario=\"\"):\n",
    "        self.__nomeUsuario = nomeUsuario\n",
    "    def setNomeUsuario(self, nomeUsuario):\n",
    "        self.__nomeUsuario = nomeUsuario\n",
    "    def getNomeUsuario(self):\n",
    "        return self.__nomeUsuario\n",
    "\n",
    "class Admin(Usuario):\n",
    "    def escrevaNome(self):\n",
    "        print(\"Admin\")\n",
    "    def digaOla(self):\n",
    "        print(f\"Olá Admin, {self.getNomeUsuario()}\")\n",
    "\n",
    "\n",
    "admin1 = Admin()\n",
    "admin1.setNomeUsuario(\"Baltazar\")\n",
    "admin1.digaOla()\n"
   ]
  }
 ],
 "metadata": {
  "kernelspec": {
   "display_name": "Python 3",
   "language": "python",
   "name": "python3"
  },
  "language_info": {
   "codemirror_mode": {
    "name": "ipython",
    "version": 3
   },
   "file_extension": ".py",
   "mimetype": "text/x-python",
   "name": "python",
   "nbconvert_exporter": "python",
   "pygments_lexer": "ipython3",
   "version": "3.11.0"
  }
 },
 "nbformat": 4,
 "nbformat_minor": 5
}
