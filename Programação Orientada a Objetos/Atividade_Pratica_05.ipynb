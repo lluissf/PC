{
 "cells": [
  {
   "cell_type": "markdown",
   "metadata": {},
   "source": [
    "Vamos voltar para a classe Usuario que desenvolvemos nas atividades anteriores. E agora vamos definir os valores para o primeiro e último nome através de um método construtor.\n",
    "Esta é a classe Usuario:"
   ]
  },
  {
   "cell_type": "code",
   "execution_count": 8,
   "metadata": {},
   "outputs": [],
   "source": [
    "class Usuario():\n",
    "    primeiroNome = \"\"\n",
    "    ultimoNome = \"\"\n"
   ]
  },
  {
   "cell_type": "markdown",
   "metadata": {},
   "source": [
    "1. Acrescente à classe Usuario um método construtor para definir um valor para a propriedade\n",
    "primeiroNome assim que o objeto for criado."
   ]
  },
  {
   "cell_type": "code",
   "execution_count": 9,
   "metadata": {},
   "outputs": [],
   "source": [
    "class Usuario():\n",
    "    primeiroNome = \"\"\n",
    "    ultimoNome = \"\"\n",
    "    def __init__(self, primeiroNome):\n",
    "        self.primeiroNome = primeiroNome"
   ]
  },
  {
   "cell_type": "markdown",
   "metadata": {},
   "source": [
    "2. Acrescente ao construtor a capacidade de definir o valor da propriedade ultimoNome, bem como a\n",
    "propriedade primeiroNome."
   ]
  },
  {
   "cell_type": "code",
   "execution_count": 10,
   "metadata": {},
   "outputs": [],
   "source": [
    "class Usuario():\n",
    "    primeiroNome = \"\"\n",
    "    ultimoNome = \"\"\n",
    "    def __init__(self, primeiroNome, ultimoNome):\n",
    "        self.primeiroNome = primeiroNome\n",
    "        self.ultimoNome = ultimoNome"
   ]
  },
  {
   "cell_type": "markdown",
   "metadata": {},
   "source": [
    "3. Adicione à classe Usuario um método chamado getNomeCompleto() que retorna o nome\n",
    "completo do usuário."
   ]
  },
  {
   "cell_type": "code",
   "execution_count": 11,
   "metadata": {},
   "outputs": [],
   "source": [
    "class Usuario():\n",
    "    primeiroNome = \"\"\n",
    "    ultimoNome = \"\"\n",
    "    def __init__(self, primeiroNome, ultimoNome):\n",
    "        self.primeiroNome = primeiroNome\n",
    "        self.ultimoNome = ultimoNome\n",
    "    def getNomeCompleto(self):\n",
    "        return f\"{self.primeiroNome} {self.ultimoNome}\""
   ]
  },
  {
   "cell_type": "markdown",
   "metadata": {},
   "source": [
    "4. Crie um novo objeto, usuario1, e passe para o construtor os valores do primeiro e último nome. O\n",
    "primeiro nome é \"Johnny\" e o sobrenome é \"Bravo\" (você pode escolher sua combinação preferida\n",
    "de primeiro e último nome)."
   ]
  },
  {
   "cell_type": "code",
   "execution_count": 12,
   "metadata": {},
   "outputs": [],
   "source": [
    "usuario1 = Usuario(\"Johnny\", \"Bravo\")"
   ]
  },
  {
   "cell_type": "markdown",
   "metadata": {},
   "source": [
    "5. Obtenha o nome completo e imprima-o na tela."
   ]
  },
  {
   "cell_type": "code",
   "execution_count": 13,
   "metadata": {},
   "outputs": [
    {
     "name": "stdout",
     "output_type": "stream",
     "text": [
      "Johnny Bravo\n"
     ]
    }
   ],
   "source": [
    "print(usuario1.getNomeCompleto())"
   ]
  }
 ],
 "metadata": {
  "kernelspec": {
   "display_name": "Python 3",
   "language": "python",
   "name": "python3"
  },
  "language_info": {
   "codemirror_mode": {
    "name": "ipython",
    "version": 3
   },
   "file_extension": ".py",
   "mimetype": "text/x-python",
   "name": "python",
   "nbconvert_exporter": "python",
   "pygments_lexer": "ipython3",
   "version": "3.11.0"
  }
 },
 "nbformat": 4,
 "nbformat_minor": 2
}
