{
 "cells": [
  {
   "cell_type": "markdown",
   "metadata": {},
   "source": [
    "• Classe Bola: Crie uma classe que modele uma bola:\n",
    "\n",
    "a. Atributos: Cor, circunferência, material\n",
    "\n",
    "b. Métodos: trocaCor e mostraCor"
   ]
  },
  {
   "cell_type": "code",
   "execution_count": null,
   "metadata": {},
   "outputs": [],
   "source": [
    "class Bola:\n",
    "    def __init__(self, cor, circuferencia, material):\n",
    "        self.cor = cor\n",
    "        self.circuferencia = circuferencia\n",
    "        self.material = material\n",
    "    def trocarCor(self, cor):\n",
    "        self.cor = cor\n",
    "    def mostrarCor(self):\n",
    "        return self.cor"
   ]
  },
  {
   "cell_type": "markdown",
   "metadata": {},
   "source": [
    "Classe Quadrado: Crie uma classe que modele um quadrado:\n",
    "a. Atributos: Tamanho do lado\n",
    "b. Métodos: Mudar valor do Lado, Retornar valor do Lado e calcular Área;"
   ]
  },
  {
   "cell_type": "code",
   "execution_count": null,
   "metadata": {},
   "outputs": [],
   "source": [
    "class Quadrado:\n",
    "    def __init__(self, lado):\n",
    "        self.lado = lado\n",
    "    def mudarLado(self, lado):\n",
    "        self.lado = lado\n",
    "    def calcularArea(self):\n",
    "        return self.lado**2"
   ]
  },
  {
   "cell_type": "markdown",
   "metadata": {},
   "source": [
    "Classe Retangulo: Crie uma classe que modele um retangulo:\n",
    "\n",
    "a. Atributos: LadoA, LadoB (ou Comprimento e Largura, ou Base e Altura, a escolher)\n",
    "\n",
    "b. Métodos: Mudar valor dos lados, Retornar valor dos lados, calcular Área e calcular Perímetro;"
   ]
  },
  {
   "cell_type": "code",
   "execution_count": null,
   "metadata": {},
   "outputs": [],
   "source": [
    "class Retangulo:\n",
    "    def __init__(self, ladoA, ladoB):\n",
    "        self.ladoA = ladoA\n",
    "        self.ladoB = ladoB\n",
    "    def mudarLado(self, ladoA, ladoB):\n",
    "        self.ladoA = ladoA\n",
    "        self.ladoB = ladoB\n",
    "    def calcularArea(self):\n",
    "        return (self.ladoA * 2 ) + (self.ladoB * 2)\n"
   ]
  },
  {
   "cell_type": "markdown",
   "metadata": {},
   "source": [
    "c. Crie um programa que utilize esta classe. Ele deve pedir ao usuário que informe as medidades de um local. Depois, deve criar um objeto com as medidas e calcular a quantidade de pisos e de rodapés necessárias para o local."
   ]
  },
  {
   "cell_type": "code",
   "execution_count": 8,
   "metadata": {},
   "outputs": [
    {
     "name": "stdout",
     "output_type": "stream",
     "text": [
      "Area do retangulo:  50\n",
      "Area do retangulo:  500\n"
     ]
    }
   ],
   "source": [
    "#valorA = int(input(\"Digite o valor do lado A: \"))\n",
    "# valorB = int(input(\"Digite o valor do lado B: \"))\n",
    "valorA = 5\n",
    "valorB = 10\n",
    "retangulo = Retangulo(valorA, valorB)\n",
    "print(\"Area do retangulo: \", retangulo.calcularArea())\n",
    "resposta = \"s\"\n",
    "# resposta = input(\"Deseja mudar os lados? (s/n)\")\n",
    "if resposta == \"s\":\n",
    "    # valorA = int(input(\"Digite o novo valor do lado A: \"))\n",
    "    # valorB = int(input(\"Digite o novo valor do lado B: \"))\n",
    "    valorA = 10\n",
    "    valorB = 50\n",
    "    retangulo.mudarLado(valorA, valorB)\n",
    "    print(\"Area do retangulo: \", retangulo.calcularArea())\n"
   ]
  },
  {
   "cell_type": "markdown",
   "metadata": {},
   "source": [
    "• Classe Pessoa: Crie uma classe que modele uma pessoa:\n",
    "\n",
    "a. Atributos: nome, idade, peso e altura\n",
    "\n",
    "b. Métodos: envelhecer, engordar, emagrecer, crescer.\n",
    "\n",
    "Obs: Por padrão, a cada ano que nossa pessoa envelhece, sendo a idade dela menor que 21 anos,\n",
    "ela deve crescer 0,5 cm."
   ]
  },
  {
   "cell_type": "code",
   "execution_count": 10,
   "metadata": {},
   "outputs": [
    {
     "name": "stdout",
     "output_type": "stream",
     "text": [
      "Criando a pessoa...\n",
      "\n",
      "        Nome: Luís\n",
      "        Idade: 19\n",
      "        Peso: 60\n",
      "        Altura: 1.7\n",
      "        \n",
      "Envelhecendo a pessoa...\n",
      "\n",
      "        Nome: Luís\n",
      "        Idade: 19\n",
      "        Peso: 60\n",
      "        Altura: 2.2\n",
      "        \n",
      "Engordando a pessoa...\n",
      "\n",
      "        Nome: Luís\n",
      "        Idade: 19\n",
      "        Peso: 65\n",
      "        Altura: 2.2\n",
      "        \n",
      "Emagrecendo a pessoa...\n",
      "\n",
      "        Nome: Luís\n",
      "        Idade: 19\n",
      "        Peso: 63\n",
      "        Altura: 2.2\n",
      "        \n"
     ]
    }
   ],
   "source": [
    "class Pessoa:\n",
    "    def __init__(self, nome=\"\", idade=0, peso=0.00, altura=0.00):\n",
    "        self.__nome = nome\n",
    "        self.__idade = idade\n",
    "        self.__peso = peso\n",
    "        self.__altura = altura \n",
    "\n",
    "    def envelhecer(self):\n",
    "        if self.__idade < 21:\n",
    "            self.crescer(0.5)\n",
    "    def engordar(self, peso):\n",
    "        self.__peso += peso\n",
    "    def emagrecer(self, peso):\n",
    "        self.__peso -= peso\n",
    "    def crescer(self, altura):\n",
    "        self.__altura += altura\n",
    "    def mostrarDados(self):\n",
    "        return f\"\"\"\n",
    "        Nome: {self.__nome}\n",
    "        Idade: {self.__idade}\n",
    "        Peso: {self.__peso}\n",
    "        Altura: {self.__altura}\n",
    "        \"\"\"\n",
    "print(\"Criando a pessoa...\")\n",
    "pessoa = Pessoa(\"Luís\", 19, 60, 1.7)\n",
    "print(pessoa.mostrarDados())\n",
    "print(\"Envelhecendo a pessoa...\")\n",
    "pessoa.envelhecer()\n",
    "print(pessoa.mostrarDados())\n",
    "print(\"Engordando a pessoa...\")\n",
    "pessoa.engordar(5)\n",
    "print(pessoa.mostrarDados())\n",
    "print(\"Emagrecendo a pessoa...\")\n",
    "pessoa.emagrecer(2)\n",
    "print(pessoa.mostrarDados())\n"
   ]
  },
  {
   "cell_type": "markdown",
   "metadata": {},
   "source": [
    "• Classe Conta Corrente: Crie uma classe para implementar uma conta corrente. \n",
    "\n",
    "A classe deve possuir os seguintes atributos: \n",
    "número da conta, nome do correntista e saldo. \n",
    "\n",
    "Os métodos são os seguintes: \n",
    "alterarNome, depósito e saque. \n",
    "\n",
    "No construtor, saldo é opcional, com valor default zero e os demais atributos são obrigatórios."
   ]
  },
  {
   "cell_type": "code",
   "execution_count": null,
   "metadata": {},
   "outputs": [
    {
     "name": "stdout",
     "output_type": "stream",
     "text": [
      "Criando a conta...\n",
      "\n",
      "        Nome: Luís\n",
      "        Conta: 123\n",
      "        Saldo: 1000\n",
      "        \n",
      "Alterando o nome do cliente...\n",
      "\n",
      "        Nome: Ellen\n",
      "        Conta: 123\n",
      "        Saldo: 1000\n",
      "        \n",
      "Fazendo um depósito...\n",
      "\n",
      "        Nome: Ellen\n",
      "        Conta: 123\n",
      "        Saldo: 1500\n",
      "        \n",
      "Fazendo um saque...\n",
      "Saldo insuficiente\n",
      "\n",
      "        Nome: Ellen\n",
      "        Conta: 123\n",
      "        Saldo: 1500\n",
      "        \n"
     ]
    }
   ],
   "source": [
    "class Conta:\n",
    "    def __init__(self, numero_conta, nome_cliente, saldo=0):\n",
    "        self.__numero_conta = numero_conta\n",
    "        self.__nome_cliente = nome_cliente\n",
    "        self.__saldo = saldo\n",
    "    def alterarNome(self, nome_cliente):\n",
    "        self.__nome_cliente = nome_cliente\n",
    "    def deposito(self, valor):\n",
    "        self.__saldo += valor\n",
    "    def saque(self, valor):\n",
    "        if valor > self.__saldo:\n",
    "            print(\"Saldo insuficiente\")\n",
    "        else:\n",
    "            self.__saldo -= valor\n",
    "    def mostrarDados(self):\n",
    "        return f\"\"\"\n",
    "        Nome: {self.__nome_cliente}\n",
    "        Conta: {self.__numero_conta}\n",
    "        Saldo: {self.__saldo}\n",
    "        \"\"\"\n",
    "conta = Conta(123, \"Luís\", 1000)    \n",
    "conta.alterarNome(\"Ellen\")\n",
    "conta.deposito(500)\n",
    "conta.saque(2000)\n",
    "print(conta.mostrarDados())"
   ]
  },
  {
   "cell_type": "markdown",
   "metadata": {},
   "source": [
    "• Classe TV: Faça um programa que simule um televisor criando-o como um objeto. \n",
    "\n",
    "O usuário deve ser capaz de informar o número do canal e aumentar ou diminuir o volume. \n",
    "\n",
    "Certifique-se de que o número do canal e o nível do volume permanecem dentro de faixas válidas."
   ]
  },
  {
   "cell_type": "code",
   "execution_count": null,
   "metadata": {},
   "outputs": [
    {
     "name": "stdout",
     "output_type": "stream",
     "text": [
      "Criando a TV...\n",
      "\n",
      "        Canal: 5\n",
      "        Volume: 10\n",
      "        \n",
      "Aumentando o volume...\n",
      "\n",
      "        Canal: 5\n",
      "        Volume: 10\n",
      "        \n",
      "Diminuindo o volume...\n",
      "\n",
      "        Canal: 5\n",
      "        Volume: 9\n",
      "        \n",
      "Mudando o canal...\n",
      "\n",
      "        Canal: 10\n",
      "        Volume: 9\n",
      "        \n"
     ]
    }
   ],
   "source": [
    "class TV:\n",
    "    def __init__(self, canal=0, volume=0):\n",
    "        if canal < 0 or canal > 10:\n",
    "            raise ValueError(\"Canal deve ser entre 0 e 100\")\n",
    "        if volume < 0 or volume > 10:\n",
    "            raise ValueError(\"Volume deve ser entre 0 e 10\")\n",
    "        self.__canal = canal\n",
    "        self.__volume = volume\n",
    "    def aumentarVolume(self):\n",
    "        if self.__volume < 10:\n",
    "            self.__volume += 1\n",
    "    def diminuirVolume(self):\n",
    "        if self.__volume > 0:\n",
    "            self.__volume -= 1\n",
    "    def mudarCanal(self, canal):\n",
    "        self.__canal = canal\n",
    "    def mostrarDados(self):\n",
    "        return f\"\"\"\n",
    "Canal: {self.__canal}\n",
    "Volume: {self.__volume}\n",
    "        \"\"\"\n",
    "print(\"Criando a TV...\")\n",
    "tv = TV(5, 10)\n",
    "print(tv.mostrarDados())\n",
    "print(\"Aumentando o volume...\")\n",
    "tv.aumentarVolume()\n",
    "print(tv.mostrarDados())\n",
    "print(\"Diminuindo o volume...\")\n",
    "tv.diminuirVolume()\n",
    "print(tv.mostrarDados())\n",
    "print(\"Mudando o canal...\")\n",
    "tv.mudarCanal(10)\n",
    "print(tv.mostrarDados())"
   ]
  },
  {
   "cell_type": "markdown",
   "metadata": {},
   "source": [
    "• Classe Bichinho Virtual: Crie uma classe que modele um Tamagushi (Bichinho Eletrônico):\n",
    "\n",
    "a. Atributos: Nome, Fome, Saúde e Idade\n",
    "\n",
    "b. Métodos: Alterar Nome, Fome, Saúde e Idade; Retornar Nome, Fome, Saúde e Idade\n",
    "\n",
    "Obs: Existe mais uma informação que devemos levar em consideração, o Humor do nosso tamagushi,\n",
    "este humor é uma combinação entre os atributos Fome e Saúde, ou seja, um campo calculado, então\n",
    "não devemos criar um atributo para armazenar esta informação por que ela pode ser calculada a\n",
    "qualquer momento."
   ]
  },
  {
   "cell_type": "code",
   "execution_count": 15,
   "metadata": {},
   "outputs": [
    {
     "name": "stdout",
     "output_type": "stream",
     "text": [
      "\n",
      "Nome: Lele\n",
      "Fome: 50\n",
      "Saúde: 80\n",
      "Idade: 5\n",
      "Humor: 30\n",
      "        \n"
     ]
    }
   ],
   "source": [
    "class BichinhoVirtual:\n",
    "    def __init__(self, nome, fome=100, saude=100, idade=0):\n",
    "        self.__nome = nome\n",
    "        self.__fome = fome\n",
    "        self.__saude = saude\n",
    "        self.__idade = idade\n",
    "    def alterarNome(self, nome):\n",
    "        self.__nome = nome\n",
    "    def fome(self, valor):\n",
    "        self.__fome = valor\n",
    "    def saude(self, valor):\n",
    "        self.__saude = valor\n",
    "    def idade(self, valor):\n",
    "        self.__idade = valor\n",
    "    def humor(self):\n",
    "         return self.__saude - self.__fome\n",
    "    def mostrarDados(self):\n",
    "        return f\"\"\"\n",
    "Nome: {self.__nome}\n",
    "Fome: {self.__fome}\n",
    "Saúde: {self.__saude}\n",
    "Idade: {self.__idade}\n",
    "Humor: {self.humor()}\n",
    "        \"\"\"\n",
    " \n",
    "bichinho = BichinhoVirtual(\"Lulu\", 100, 100, 0) \n",
    "bichinho.alterarNome(\"Lele\")\n",
    "bichinho.fome(50)\n",
    "bichinho.saude(80)\n",
    "bichinho.idade(5)\n",
    "print(bichinho.mostrarDados())"
   ]
  },
  {
   "cell_type": "markdown",
   "metadata": {},
   "source": [
    "• Classe Macaco: Desenvolva uma classe Macaco, que possua os atributos nome e bucho (estomago)\n",
    "e pelo menos os métodos comer(), verBucho() e digerir(). \n",
    "\n",
    "Faça um programa ou teste interativamente, criando pelo menos dois macacos, alimentando-os com pelo menos 3 alimentos diferentes e verificando o conteúdo do estomago a cada refeição. Experimente fazer com que um macaco coma o outro. É possível criar um macaco canibal?"
   ]
  },
  {
   "cell_type": "code",
   "execution_count": 7,
   "metadata": {},
   "outputs": [
    {
     "name": "stdout",
     "output_type": "stream",
     "text": [
      "['banana', <__main__.Macaco object at 0x000002164991F5D0>]\n"
     ]
    }
   ],
   "source": [
    "class Macaco:\n",
    "    def __init__(self, nome, bucho=[]):\n",
    "        self.__nome = nome\n",
    "        self.bucho = bucho\n",
    "    def comer(self, comida):\n",
    "        return self.bucho.append(comida)\n",
    "    def verBucho(self):\n",
    "        return self.bucho\n",
    "    \n",
    "macaco1 = Macaco(\"Macaco\")\n",
    "macaco1.comer(\"banana\")\n",
    "macaco2 = Macaco(\"Macaco2\")\n",
    "macaco2.comer(macaco1)\n",
    "print(macaco2.verBucho())\n"
   ]
  },
  {
   "cell_type": "markdown",
   "metadata": {},
   "source": [
    "• Classe Ponto e Retangulo: Faça um programa completo utilizando funções e classes que:\n",
    "\n",
    "a. Possua uma classe chamada Ponto, com os atributos x e y.\n",
    "\n",
    "b. Possua uma classe chamada Retangulo, com os atributos largura e altura.\n",
    "\n",
    "c. Possua uma função para imprimir os valores da classe Ponto\n",
    "\n",
    "d. Possua uma função para encontrar o centro de um Retângulo.\n",
    "\n",
    "e. Você deve criar alguns objetos da classe Retangulo.\n",
    "\n",
    "f. Cada objeto deve ter um vértice de partida, por exemplo, o vértice inferior esquerdo do\n",
    "retângulo, que deve ser um objeto da classe Ponto.\n",
    "\n",
    "g. A função para encontrar o centro do retângulo deve retornar o valor para um objeto do tipo\n",
    "ponto que indique os valores de x e y para o centro do objeto.\n",
    "\n",
    "h. O valor do centro do objeto deve ser mostrado na tela\n",
    "\n",
    "i. Crie um menu para alterar os valores do retângulo e imprimir o centro deste retângulo."
   ]
  },
  {
   "cell_type": "code",
   "execution_count": 8,
   "metadata": {},
   "outputs": [
    {
     "name": "stdout",
     "output_type": "stream",
     "text": [
      "\n",
      "Menu:\n",
      "1 - Imprimir o centro do Retângulo\n",
      "2 - Alterar valores do Retângulo\n",
      "3 - Sair\n",
      "Saindo...\n"
     ]
    }
   ],
   "source": [
    "# Classe Ponto\n",
    "class Ponto:\n",
    "    def __init__(self, x, y):\n",
    "        self.x = x\n",
    "        self.y = y\n",
    "\n",
    "    def imprimir(self):\n",
    "        print(f'Ponto: ({self.x}, {self.y})')\n",
    "\n",
    "# Classe Retangulo\n",
    "class Retangulo:\n",
    "    def __init__(self, ponto_inferior_esquerdo, largura, altura):\n",
    "        self.ponto_inferior_esquerdo = ponto_inferior_esquerdo\n",
    "        self.largura = largura\n",
    "        self.altura = altura\n",
    "\n",
    "    def calcular_centro(self):\n",
    "        centro_x = self.ponto_inferior_esquerdo.x + self.largura / 2\n",
    "        centro_y = self.ponto_inferior_esquerdo.y + self.altura / 2\n",
    "        return Ponto(centro_x, centro_y)\n",
    "\n",
    "def menu():\n",
    "    ponto_inferior_esquerdo = Ponto(0, 0)\n",
    "    retangulo = Retangulo(ponto_inferior_esquerdo, 10, 5)\n",
    "\n",
    "    while True:\n",
    "        print(\"\\nMenu:\")\n",
    "        print(\"1 - Imprimir o centro do Retângulo\")\n",
    "        print(\"2 - Alterar valores do Retângulo\")\n",
    "        print(\"3 - Sair\")\n",
    "\n",
    "        opcao = input(\"Escolha uma opção: \")\n",
    "\n",
    "        if opcao == '1':\n",
    "            centro = retangulo.calcular_centro()\n",
    "            print(\"Centro do retângulo: \", end=\"\")\n",
    "            centro.imprimir() \n",
    "\n",
    "        elif opcao == '2':\n",
    "            nova_largura = float(input(\"Digite a nova largura do retângulo: \"))\n",
    "            nova_altura = float(input(\"Digite a nova altura do retângulo: \"))\n",
    "            retangulo.largura = nova_largura\n",
    "            retangulo.altura = nova_altura\n",
    "            print(f\"Retângulo atualizado: Largura = {nova_largura}, Altura = {nova_altura}\")\n",
    "        elif opcao == '3':\n",
    "            print(\"Saindo...\")\n",
    "            break\n",
    "\n",
    "        else:\n",
    "            print(\"Opção inválida, tente novamente.\")\n",
    "\n",
    "menu()"
   ]
  },
  {
   "cell_type": "markdown",
   "metadata": {},
   "source": [
    "• Classe Carro: Implemente uma classe chamada Carro com as seguintes propriedades:\n",
    "a. Um veículo tem um certo consumo de combustível (medidos em km / litro) e uma certa\n",
    "quantidade de combustível no tanque.\n",
    "b. O consumo é especificado no construtor e o nível de combustível inicial é 0.\n",
    "c. Forneça um método andar( ) que simule o ato de dirigir o veículo por uma certa distância,\n",
    "reduzindo o nível de combustível no tanque de gasolina.\n",
    "d. Forneça um método obterGasolina( ), que retorna o nível atual de combustível.\n",
    "e. Forneça um método adicionarGasolina( ), para abastecer o tanque. Exemplo de uso:\n"
   ]
  },
  {
   "cell_type": "code",
   "execution_count": 9,
   "metadata": {},
   "outputs": [
    {
     "name": "stdout",
     "output_type": "stream",
     "text": [
      "Gasolina disponível no tanque: 13.3l\n"
     ]
    }
   ],
   "source": [
    "\n",
    "class Carro():\n",
    "  def __init__(self, consumo, combustivel=0):\n",
    "    self.combustivel = combustivel\n",
    "    self.consumo = consumo\n",
    "\n",
    "  def andar(self, distancia):\n",
    "    self.combustivel -= distancia/self.consumo\n",
    "\n",
    "  def obterGasolina(self):\n",
    "    print(f\"Gasolina disponível no tanque: {self.combustivel:.1f}l\")\n",
    "\n",
    "  def adicionarGasolina(self, gasolina):\n",
    "    self.combustivel += gasolina\n",
    "\n",
    "     \n",
    "\n",
    "meuFusca = Carro(15) # 15 quilômetros por litro de combustível.\n",
    "meuFusca.adicionarGasolina(20) # abastece com 20 litros de combustível.\n",
    "meuFusca.andar(100) # anda 100 quilômetros.\n",
    "meuFusca.obterGasolina() # Imprime o combustível que resta no tanque."
   ]
  },
  {
   "cell_type": "markdown",
   "metadata": {},
   "source": [
    "• Classe Conta de Investimento: Faça uma classe chamada contaInvestimento que seja semelhante à\n",
    "classe contaBancaria, com a diferença de que se adicione um atributo taxaJuros. Forneça um\n",
    "construtor que configure tanto o saldo inicial como a taxa de juros. Forneça um método adicioneJuros\n",
    "(sem parâmetro explícito) que adicione juros à conta. Escreva um programa que construa uma\n",
    "poupança com um saldo inicial de R$1000,00 e uma taxa de juros de 10%. Depois aplique o método\n",
    "adicioneJuros() cinco vezes e imprime o saldo resultante."
   ]
  },
  {
   "cell_type": "code",
   "execution_count": 11,
   "metadata": {},
   "outputs": [
    {
     "name": "stdout",
     "output_type": "stream",
     "text": [
      "Saldo: R$ 1610.51\n"
     ]
    }
   ],
   "source": [
    "class ContaInvestimento():\n",
    "  def __init__(self, saldoInicial, taxaJuros):\n",
    "    self.taxaJuros = taxaJuros/100\n",
    "    self.saldo = saldoInicial\n",
    "\n",
    "  def depositar(self, deposito):\n",
    "    self.saldo += deposito\n",
    "\n",
    "  def sacar(self, saque):\n",
    "    self.saldo -= saque\n",
    "\n",
    "  def adicionarJuros(self):\n",
    "    self.saldo += self.taxaJuros * self.saldo\n",
    "\n",
    "  def obterSaldo(self):\n",
    "    print(f'Saldo: R${self.saldo: .2f}')\n",
    "poupanca = ContaInvestimento(1000, 10)\n",
    "\n",
    "for i in range(5):\n",
    "    poupanca.adicionarJuros()\n",
    "\n",
    "poupanca.obterSaldo()"
   ]
  },
  {
   "cell_type": "markdown",
   "metadata": {},
   "source": [
    "• Classe Funcionário: Implemente a classe Funcionário. Um empregado tem um nome (um string) e\n",
    "um salário(um double). Escreva um construtor com dois parâmetros (nome e salário) e métodos para\n",
    "devolver nome e salário. Escreva um pequeno programa que teste sua classe.\n",
    "• Aprimore a classe do exercício anterior para adicionar o método aumentarSalario\n",
    "(porcentualDeAumento) que aumente o salário do funcionário em uma certa porcentagem.\n",
    "• Exemplo de uso:\n",
    "harry = funcionário(\"Harry\",25000)\n",
    "harry.aumentarSalario(10)"
   ]
  },
  {
   "cell_type": "code",
   "execution_count": 1,
   "metadata": {},
   "outputs": [
    {
     "name": "stdout",
     "output_type": "stream",
     "text": [
      "Salário: R$27500.00\n"
     ]
    }
   ],
   "source": [
    "\n",
    "\n",
    "class Funcionario():\n",
    "  def __init__(self, nome, salario):\n",
    "    self.nome = str(nome)\n",
    "    self.salario = float(salario)\n",
    "\n",
    "  def getNome(self):\n",
    "    return self.nome\n",
    "\n",
    "  def getSalario(self):\n",
    "    return self.salario\n",
    "\n",
    "  def aumentarSalario(self, porcentagemDeAumento):\n",
    "    self.salario += self.salario * porcentagemDeAumento/100\n",
    "     \n",
    "harry = Funcionario(\"Harry\",25000)\n",
    "harry.aumentarSalario(10)\n",
    "print(f\"Salário: R${harry.getSalario():.2f}\")\n",
    "     \n"
   ]
  },
  {
   "cell_type": "markdown",
   "metadata": {},
   "source": [
    "• Classe Bichinho Virtual++: Melhore o programa do bichinho virtual, permitindo que o usuário\n",
    "especifique quanto de comida ele fornece ao bichinho e por quanto tempo ele brinca com o bichinho.\n",
    "Faça com que estes valores afetem quão rapidamente os níveis de fome e tédio caem."
   ]
  },
  {
   "cell_type": "code",
   "execution_count": 2,
   "metadata": {},
   "outputs": [],
   "source": [
    "class BichinhoVirtual:\n",
    "    def __init__(self, nome, fome=0, saude=100, idade=0):\n",
    "        self.nome = nome\n",
    "        self.fome = fome  # 0 (sem fome) até 100 (morrendo de fome)\n",
    "        self.saude = saude  # 0 (muito doente) até 100 (saudável)\n",
    "        self.idade = idade\n",
    "\n",
    "    # Métodos de alteração\n",
    "    def alterar_nome(self, novo_nome):\n",
    "        self.nome = novo_nome\n",
    "\n",
    "    def alterar_fome(self, nova_fome):\n",
    "        self.fome = max(0, min(100, nova_fome))\n",
    "\n",
    "    def alterar_saude(self, nova_saude):\n",
    "        self.saude = max(0, min(100, nova_saude))\n",
    "\n",
    "    def alterar_idade(self, nova_idade):\n",
    "        self.idade = max(0, nova_idade)\n",
    "\n",
    "    # Métodos de consulta\n",
    "    def obter_nome(self):\n",
    "        return self.nome\n",
    "\n",
    "    def obter_fome(self):\n",
    "        return self.fome\n",
    "\n",
    "    def obter_saude(self):\n",
    "        return self.saude\n",
    "\n",
    "    def obter_idade(self):\n",
    "        return self.idade\n",
    "\n",
    "    # Propriedade calculada: humor\n",
    "    def humor(self):\n",
    "        return (100 - self.fome + self.saude) / 2  # quanto maior, melhor o humor\n",
    "\n",
    "    def __str__(self):\n",
    "        return f\"Nome: {self.nome}, Fome: {self.fome}, Saúde: {self.saude}, Idade: {self.idade}, Humor: {self.humor():.1f}\"\n",
    "\n",
    "    def alimentar(self, quantidade):\n",
    "        self.fome = max(0, self.fome - quantidade)\n",
    "\n",
    "    def brincar(self, tempo):\n",
    "        self.saude = min(100, self.saude + tempo)\n",
    "        self.fome = min(100, self.fome + tempo // 2)  # Brincar dá fome"
   ]
  },
  {
   "cell_type": "markdown",
   "metadata": {},
   "source": [
    "• Crie uma Fazenda de Bichinhos instanciando vários objetos bichinho e mantendo o controle deles\n",
    "através de uma lista. Imite o funcionamento do programa básico, mas ao invés de exigir que o usuário\n",
    "tome conta de um único bichinho, exija que ele tome conta da fazenda inteira. Cada opção do menu\n",
    "deveria permitir que o usuário executasse uma ação para todos os bichinhos (alimentar todos os\n",
    "bichinhos, brincar com todos os bichinhos, ou ouvir a todos os bichinhos). Para tornar o programa\n",
    "mais interessante, dê para cada bichinho um nível inicial aleatório de fome e tédio."
   ]
  },
  {
   "cell_type": "code",
   "execution_count": 3,
   "metadata": {},
   "outputs": [
    {
     "name": "stdout",
     "output_type": "stream",
     "text": [
      "Nome: Tama, Fome: 54, Saúde: 61, Idade: 5, Humor: 53.5\n",
      "Nome: Gushi, Fome: 70, Saúde: 99, Idade: 2, Humor: 64.5\n",
      "\n",
      "Depois de brincar e alimentar:\n",
      "Nome: Tama, Fome: 41, Saúde: 76, Idade: 5, Humor: 67.5\n",
      "Nome: Gushi, Fome: 57, Saúde: 100, Idade: 2, Humor: 71.5\n"
     ]
    }
   ],
   "source": [
    "\n",
    "\n",
    "import random\n",
    "\n",
    "class Fazenda:\n",
    "    def __init__(self):\n",
    "        self.bichinhos = []\n",
    "\n",
    "    def adicionar_bichinho(self, nome):\n",
    "        fome_inicial = random.randint(0, 100)\n",
    "        saude_inicial = random.randint(50, 100)\n",
    "        idade = random.randint(0, 10)\n",
    "        bichinho = BichinhoVirtual(nome, fome_inicial, saude_inicial, idade)\n",
    "        self.bichinhos.append(bichinho)\n",
    "\n",
    "    def alimentar_todos(self, quantidade):\n",
    "        for b in self.bichinhos:\n",
    "            b.alimentar(quantidade)\n",
    "\n",
    "    def brincar_com_todos(self, tempo):\n",
    "        for b in self.bichinhos:\n",
    "            b.brincar(tempo)\n",
    "\n",
    "    def mostrar_status(self):\n",
    "        for b in self.bichinhos:\n",
    "            print(b)\n",
    "\n",
    "     \n",
    "\n",
    "fazenda = Fazenda()\n",
    "fazenda.adicionar_bichinho(\"Tama\")\n",
    "fazenda.adicionar_bichinho(\"Gushi\")\n",
    "fazenda.mostrar_status()\n",
    "\n",
    "fazenda.alimentar_todos(20)\n",
    "fazenda.brincar_com_todos(15)\n",
    "\n",
    "print(\"\\nDepois de brincar e alimentar:\")\n",
    "fazenda.mostrar_status()\n",
    "\n",
    "     \n"
   ]
  }
 ],
 "metadata": {
  "kernelspec": {
   "display_name": "Python 3",
   "language": "python",
   "name": "python3"
  },
  "language_info": {
   "codemirror_mode": {
    "name": "ipython",
    "version": 3
   },
   "file_extension": ".py",
   "mimetype": "text/x-python",
   "name": "python",
   "nbconvert_exporter": "python",
   "pygments_lexer": "ipython3",
   "version": "3.11.0"
  }
 },
 "nbformat": 4,
 "nbformat_minor": 2
}
