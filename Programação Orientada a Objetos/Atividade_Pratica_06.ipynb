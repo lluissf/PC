{
 "cells": [
  {
   "cell_type": "markdown",
   "metadata": {},
   "source": [
    "• Classe Bola: Crie uma classe que modele uma bola:\n",
    "\n",
    "a. Atributos: Cor, circunferência, material\n",
    "\n",
    "b. Métodos: trocaCor e mostraCor"
   ]
  },
  {
   "cell_type": "code",
   "execution_count": null,
   "metadata": {},
   "outputs": [],
   "source": [
    "class Bola:\n",
    "    def __init__(self, cor, circuferencia, material):\n",
    "        self.cor = cor\n",
    "        self.circuferencia = circuferencia\n",
    "        self.material = material\n",
    "    def trocarCor(self, cor):\n",
    "        self.cor = cor\n",
    "    def mostrarCor(self):\n",
    "        return self.cor"
   ]
  },
  {
   "cell_type": "markdown",
   "metadata": {},
   "source": [
    "Classe Quadrado: Crie uma classe que modele um quadrado:\n",
    "a. Atributos: Tamanho do lado\n",
    "b. Métodos: Mudar valor do Lado, Retornar valor do Lado e calcular Área;"
   ]
  },
  {
   "cell_type": "code",
   "execution_count": 1,
   "metadata": {},
   "outputs": [],
   "source": [
    "class Quadrado:\n",
    "    def __init__(self, lado):\n",
    "        self.lado = lado\n",
    "    def mudarLado(self, lado):\n",
    "        self.lado = lado\n",
    "    def calcularArea(self):\n",
    "        return self.lado * self.lado"
   ]
  },
  {
   "cell_type": "markdown",
   "metadata": {},
   "source": [
    "Classe Retangulo: Crie uma classe que modele um retangulo:\n",
    "\n",
    "a. Atributos: LadoA, LadoB (ou Comprimento e Largura, ou Base e Altura, a escolher)\n",
    "\n",
    "b. Métodos: Mudar valor dos lados, Retornar valor dos lados, calcular Área e calcular Perímetro;"
   ]
  },
  {
   "cell_type": "code",
   "execution_count": 2,
   "metadata": {},
   "outputs": [],
   "source": [
    "class Retangulo:\n",
    "    def __init__(self, ladoA, ladoB):\n",
    "        self.ladoA = ladoA\n",
    "        self.ladoB = ladoB\n",
    "    def mudarLado(self, ladoA, ladoB):\n",
    "        self.ladoA = ladoA\n",
    "        self.ladoB = ladoB\n",
    "    def calcularArea(self):\n",
    "        return self.ladoA * self.ladoB\n"
   ]
  },
  {
   "cell_type": "markdown",
   "metadata": {},
   "source": [
    "c. Crie um programa que utilize esta classe. Ele deve pedir ao usuário que informe as medidades de um local. Depois, deve criar um objeto com as medidas e calcular a quantidade de pisos e de rodapés necessárias para o local."
   ]
  },
  {
   "cell_type": "code",
   "execution_count": 8,
   "metadata": {},
   "outputs": [
    {
     "name": "stdout",
     "output_type": "stream",
     "text": [
      "Area do retangulo:  50\n",
      "Area do retangulo:  500\n"
     ]
    }
   ],
   "source": [
    "#valorA = int(input(\"Digite o valor do lado A: \"))\n",
    "# valorB = int(input(\"Digite o valor do lado B: \"))\n",
    "valorA = 5\n",
    "valorB = 10\n",
    "retangulo = Retangulo(valorA, valorB)\n",
    "print(\"Area do retangulo: \", retangulo.calcularArea())\n",
    "resposta = \"s\"\n",
    "# resposta = input(\"Deseja mudar os lados? (s/n)\")\n",
    "if resposta == \"s\":\n",
    "    # valorA = int(input(\"Digite o novo valor do lado A: \"))\n",
    "    # valorB = int(input(\"Digite o novo valor do lado B: \"))\n",
    "    valorA = 10\n",
    "    valorB = 50\n",
    "    retangulo.mudarLado(valorA, valorB)\n",
    "    print(\"Area do retangulo: \", retangulo.calcularArea())\n"
   ]
  },
  {
   "cell_type": "markdown",
   "metadata": {},
   "source": [
    "• Classe Pessoa: Crie uma classe que modele uma pessoa:\n",
    "\n",
    "a. Atributos: nome, idade, peso e altura\n",
    "\n",
    "b. Métodos: envelhecer, engordar, emagrecer, crescer.\n",
    "\n",
    "Obs: Por padrão, a cada ano que nossa pessoa envelhece, sendo a idade dela menor que 21 anos,\n",
    "ela deve crescer 0,5 cm."
   ]
  },
  {
   "cell_type": "code",
   "execution_count": 10,
   "metadata": {},
   "outputs": [
    {
     "name": "stdout",
     "output_type": "stream",
     "text": [
      "Criando a pessoa...\n",
      "\n",
      "        Nome: Luís\n",
      "        Idade: 19\n",
      "        Peso: 60\n",
      "        Altura: 1.7\n",
      "        \n",
      "Envelhecendo a pessoa...\n",
      "\n",
      "        Nome: Luís\n",
      "        Idade: 19\n",
      "        Peso: 60\n",
      "        Altura: 2.2\n",
      "        \n",
      "Engordando a pessoa...\n",
      "\n",
      "        Nome: Luís\n",
      "        Idade: 19\n",
      "        Peso: 65\n",
      "        Altura: 2.2\n",
      "        \n",
      "Emagrecendo a pessoa...\n",
      "\n",
      "        Nome: Luís\n",
      "        Idade: 19\n",
      "        Peso: 63\n",
      "        Altura: 2.2\n",
      "        \n"
     ]
    }
   ],
   "source": [
    "class Pessoa:\n",
    "    def __init__(self, nome=\"\", idade=0, peso=0.00, altura=0.00):\n",
    "        self.__nome = nome\n",
    "        self.__idade = idade\n",
    "        self.__peso = peso\n",
    "        self.__altura = altura \n",
    "\n",
    "    def envelhecer(self):\n",
    "        if self.__idade < 21:\n",
    "            self.crescer(0.5)\n",
    "    def engordar(self, peso):\n",
    "        self.__peso += peso\n",
    "    def emagrecer(self, peso):\n",
    "        self.__peso -= peso\n",
    "    def crescer(self, altura):\n",
    "        self.__altura += altura\n",
    "    def mostrarDados(self):\n",
    "        return f\"\"\"\n",
    "        Nome: {self.__nome}\n",
    "        Idade: {self.__idade}\n",
    "        Peso: {self.__peso}\n",
    "        Altura: {self.__altura}\n",
    "        \"\"\"\n",
    "print(\"Criando a pessoa...\")\n",
    "pessoa = Pessoa(\"Luís\", 19, 60, 1.7)\n",
    "print(pessoa.mostrarDados())\n",
    "print(\"Envelhecendo a pessoa...\")\n",
    "pessoa.envelhecer()\n",
    "print(pessoa.mostrarDados())\n",
    "print(\"Engordando a pessoa...\")\n",
    "pessoa.engordar(5)\n",
    "print(pessoa.mostrarDados())\n",
    "print(\"Emagrecendo a pessoa...\")\n",
    "pessoa.emagrecer(2)\n",
    "print(pessoa.mostrarDados())\n"
   ]
  },
  {
   "cell_type": "markdown",
   "metadata": {},
   "source": [
    "• Classe Conta Corrente: Crie uma classe para implementar uma conta corrente. \n",
    "\n",
    "A classe deve possuir os seguintes atributos: \n",
    "número da conta, nome do correntista e saldo. \n",
    "\n",
    "Os métodos são os seguintes: \n",
    "alterarNome, depósito e saque. \n",
    "\n",
    "No construtor, saldo é opcional, com valor default zero e os demais atributos são obrigatórios."
   ]
  },
  {
   "cell_type": "code",
   "execution_count": 11,
   "metadata": {},
   "outputs": [
    {
     "name": "stdout",
     "output_type": "stream",
     "text": [
      "Criando a conta...\n",
      "\n",
      "        Nome: Luís\n",
      "        Conta: 123\n",
      "        Saldo: 1000\n",
      "        \n",
      "Alterando o nome do cliente...\n",
      "\n",
      "        Nome: Ellen\n",
      "        Conta: 123\n",
      "        Saldo: 1000\n",
      "        \n",
      "Fazendo um depósito...\n",
      "\n",
      "        Nome: Ellen\n",
      "        Conta: 123\n",
      "        Saldo: 1500\n",
      "        \n",
      "Fazendo um saque...\n",
      "Saldo insuficiente\n",
      "\n",
      "        Nome: Ellen\n",
      "        Conta: 123\n",
      "        Saldo: 1500\n",
      "        \n"
     ]
    }
   ],
   "source": [
    "class Conta:\n",
    "    def __init__(self, numero_conta, nome_cliente, saldo=0):\n",
    "        self.__numero_conta = numero_conta\n",
    "        self.__nome_cliente = nome_cliente\n",
    "        self.__saldo = saldo\n",
    "    def alterarNome(self, nome_cliente):\n",
    "        self.__nome_cliente = nome_cliente\n",
    "    def deposito(self, valor):\n",
    "        self.__saldo += valor\n",
    "    def saque(self, valor):\n",
    "        if valor > self.__saldo:\n",
    "            print(\"Saldo insuficiente\")\n",
    "        else:\n",
    "            self.__saldo -= valor\n",
    "    def mostrarDados(self):\n",
    "        return f\"\"\"\n",
    "        Nome: {self.__nome_cliente}\n",
    "        Conta: {self.__numero_conta}\n",
    "        Saldo: {self.__saldo}\n",
    "        \"\"\"\n",
    "print(\"Criando a conta...\")\n",
    "conta = Conta(123, \"Luís\", 1000)    \n",
    "print(conta.mostrarDados())\n",
    "print(\"Alterando o nome do cliente...\")\n",
    "conta.alterarNome(\"Ellen\")\n",
    "print(conta.mostrarDados())\n",
    "print(\"Fazendo um depósito...\")\n",
    "conta.deposito(500)\n",
    "print(conta.mostrarDados())\n",
    "print(\"Fazendo um saque...\")\n",
    "conta.saque(2000)\n",
    "print(conta.mostrarDados())"
   ]
  }
 ],
 "metadata": {
  "kernelspec": {
   "display_name": "Python 3",
   "language": "python",
   "name": "python3"
  },
  "language_info": {
   "codemirror_mode": {
    "name": "ipython",
    "version": 3
   },
   "file_extension": ".py",
   "mimetype": "text/x-python",
   "name": "python",
   "nbconvert_exporter": "python",
   "pygments_lexer": "ipython3",
   "version": "3.11.0"
  }
 },
 "nbformat": 4,
 "nbformat_minor": 2
}
