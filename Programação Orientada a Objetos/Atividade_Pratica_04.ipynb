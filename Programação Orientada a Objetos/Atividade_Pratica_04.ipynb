{
 "cells": [
  {
   "cell_type": "markdown",
   "metadata": {},
   "source": [
    "Vimos como e quando usar os modificadores de acesso public e private. Embora o código público\n",
    "possa ser abordado de fora da classe, o código privado pode ser acessado somente dentro da classe.\n",
    "1. Nós usamos o modificador de acesso private a fim de:\n",
    "a) Limitar o acesso a uma classe"
   ]
  },
  {
   "cell_type": "markdown",
   "metadata": {},
   "source": [
    "b) Limitar o acesso às propriedades"
   ]
  },
  {
   "cell_type": "markdown",
   "metadata": {},
   "source": [
    "c) Limitar o acesso aos métodos"
   ]
  },
  {
   "cell_type": "markdown",
   "metadata": {},
   "source": [
    "d) B e C estão corretas"
   ]
  },
  {
   "cell_type": "markdown",
   "metadata": {},
   "source": [
    "2. Vamos voltar para a classe Usuario que desenvolvemos nas atividades anteriores. Agora vamos\n",
    "definir o primeiroNome do usuário como uma propriedade privada (private).\n",
    "Exercício de codificação\n",
    "\n",
    "\n"
   ]
  },
  {
   "cell_type": "markdown",
   "metadata": {},
   "source": [
    "2.1 Crie uma propriedade na classe Usuario chamada primeiroNome e evite que qualquer código\n",
    "de fora da classe altere o seu valor, usando o modificador de acesso apropriado."
   ]
  },
  {
   "cell_type": "code",
   "execution_count": 3,
   "metadata": {},
   "outputs": [],
   "source": [
    "class Usuario:\n",
    "    def __init__(self, primeiroNome=\"\"):\n",
    "        self.__primeiroNome = primeiroNome"
   ]
  },
  {
   "cell_type": "markdown",
   "metadata": {},
   "source": [
    "2.2 Crie um método para definir o valor da propriedade primeiroNome. Use o modificador de\n",
    "acesso correto para ele."
   ]
  },
  {
   "cell_type": "code",
   "execution_count": 4,
   "metadata": {},
   "outputs": [],
   "source": [
    "class Usuario:\n",
    "    def __init__(self, primeiroNome=\"\"):\n",
    "        self.__primeiroNome = primeiroNome\n",
    "    def setPrimeiroNome(self, primeiroNome):\n",
    "        self.__primeiroNome = primeiroNome"
   ]
  },
  {
   "cell_type": "markdown",
   "metadata": {},
   "source": [
    "2.3 Agora, crie um método para retornar o valor primeiroNome."
   ]
  },
  {
   "cell_type": "code",
   "execution_count": 5,
   "metadata": {},
   "outputs": [],
   "source": [
    "class Usuario:\n",
    "    def __init__(self, primeiroNome=\"\"):\n",
    "        self.__primeiroNome = primeiroNome\n",
    "    def setPrimeiroNome(self, primeiroNome):\n",
    "        self.__primeiroNome = primeiroNome\n",
    "    def getPrimeiroNome(self):\n",
    "        return self.__primeiroNome"
   ]
  },
  {
   "cell_type": "markdown",
   "metadata": {},
   "source": [
    "2.4 Crie um objeto chamado usuario1. Depois defina seu primeiro nome como \"Joe\" e faça com\n",
    "que ele retorne este nome.\n"
   ]
  },
  {
   "cell_type": "code",
   "execution_count": null,
   "metadata": {},
   "outputs": [
    {
     "name": "stdout",
     "output_type": "stream",
     "text": [
      "João\n"
     ]
    }
   ],
   "source": [
    "usuario1 = Usuario(\"Joe\")\n",
    "print(usuario1.getPrimeiroNome())"
   ]
  },
  {
   "cell_type": "markdown",
   "metadata": {},
   "source": [
    "3. Crie uma classe chamada Empregado(), com três propriedades: \n",
    "nome, salario (deve ser privada) e projeto. \n",
    "Ela também possui um método chamado “trabalho()”, que deverá imprimir o nome do funcionário e o projeto em que ele está trabalhando e um outro método chamado “mostrar()” para exibir os detalhes desse empregado (i.e. nome e salário). \n",
    "Atente para o modificador de acesso da propriedade “salario”. Use o método adequado para ter\n",
    "acesso a ela. \n",
    "Crie um objeto desta classe (i.e. instância) e use os métodos para visualizar os dados."
   ]
  },
  {
   "cell_type": "code",
   "execution_count": 9,
   "metadata": {},
   "outputs": [],
   "source": [
    "class Empregado:\n",
    "    def __init__(self, nome, salario=0, projeto=\"\"):\n",
    "        self.nome = nome\n",
    "        self.__salario = salario\n",
    "        self.projeto = projeto\n",
    "    def trabalho(self):\n",
    "        return f\"{self.nome} trabalha no projeto {self.projeto}\"\n",
    "    def mostrar(self):\n",
    "        return f\"{self.nome} ganha {self.salario}\""
   ]
  },
  {
   "cell_type": "markdown",
   "metadata": {},
   "source": [
    "4. Crie uma classe chamada Robo(). Ela deverá ter duas propriedades privadas: nome e\n",
    "ano_construcao. Também deverá ter um método de nome “diga_alo()”, para mostrar na\n",
    "tela o nome do robô e seu ano de construção. Crie os métodos “setters” e “getters”\n",
    "necessários. Instancie a classe e use os métodos criados para visualizar / atualizar os dados.\n"
   ]
  },
  {
   "cell_type": "code",
   "execution_count": 11,
   "metadata": {},
   "outputs": [
    {
     "name": "stdout",
     "output_type": "stream",
     "text": [
      "Olá, meu nome é R2D2 e fui construído em 1977.\n"
     ]
    }
   ],
   "source": [
    "class Robo:\n",
    "    def __init__(self, nome=\"\", ano_construcao=0):\n",
    "        self.__nome = nome\n",
    "        self.__ano_construcao = ano_construcao\n",
    "\n",
    "    def diga_alo(self):\n",
    "        return f\"Olá, meu nome é {self.__nome} e fui construído em {self.__ano_construcao}.\"\n",
    "\n",
    "robo = Robo(\"R2D2\", 1977)\n",
    "print(robo.diga_alo())\n"
   ]
  },
  {
   "cell_type": "markdown",
   "metadata": {},
   "source": [
    "5. Implemente uma classe chamada Laptop que possua um atributo privado chamado “preco”\n",
    "que armazena o preço do laptop (sem qualquer validação). Em seguida, implemente um método\n",
    "para ler esse atributo chamado “get_preco()” e um método para modificar esse atributo\n",
    "chamado “set_preco()” sem validação também. Em seguida, crie uma instância da classe\n",
    "Laptop siga estas etapas:\n",
    "• usando o método “get_preco()” imprima o valor do atributo “preco” na tela\n",
    "• usando o método “set_preco()”, defina o valor do atributo “preco” para 3999”"
   ]
  },
  {
   "cell_type": "code",
   "execution_count": 13,
   "metadata": {},
   "outputs": [
    {
     "name": "stdout",
     "output_type": "stream",
     "text": [
      "0\n",
      "3999\n"
     ]
    }
   ],
   "source": [
    "class Laptop:\n",
    "    def __init__(self, preco=0):\n",
    "        self.__preco = preco\n",
    "    def get_preco(self):\n",
    "        return self.__preco\n",
    "    def set_preco(self):\n",
    "        self.__preco = 3999\n",
    "\n",
    "laptop = Laptop()\n",
    "print(laptop.get_preco())\n",
    "laptop.set_preco()\n",
    "print(laptop.get_preco())\n",
    "    "
   ]
  },
  {
   "cell_type": "markdown",
   "metadata": {},
   "source": [
    "6. Implemente uma classe chamada Pessoa que tenha dois atributos privados chamados\n",
    "“primeiroNome” e “ultimoNome”, respectivamente. Em seguida, implemente métodos\n",
    "chamados “getPrimeiroNome()” e “getUltimoNome()”, para ler os atributos, e os\n",
    "métodos “setPrimeiroNome()” e “setUltimoNome()” para atribuir valores a eles. Depois\n",
    "crie uma instância da classe Pessoa definindo os seguintes valores:\n",
    "primeiroNome = 'João'\n",
    "ultimoNome = 'Carvalho'\n",
    "Após, imprima os valores desses atributos no console."
   ]
  },
  {
   "cell_type": "code",
   "execution_count": 15,
   "metadata": {},
   "outputs": [
    {
     "name": "stdout",
     "output_type": "stream",
     "text": [
      "João Carvalho\n",
      "Maria Silva\n"
     ]
    }
   ],
   "source": [
    "class Pessoa:\n",
    "    def __init__(self, primeiroNome=\"\", ultimoNome=\"\"):\n",
    "        self.__primeiroNome = primeiroNome\n",
    "        self.__ultimoNome = ultimoNome\n",
    "    def getNomeCompleto(self):\n",
    "        return f\"{self.__primeiroNome} {self.__ultimoNome}\"\n",
    "    def setPrimeiroNome(self, primeiroNome):\n",
    "        self.__primeiroNome = primeiroNome\n",
    "    def setUltimoNome(self, ultimoNome):\n",
    "        self.__ultimoNome = ultimoNome\n",
    "    \n",
    "pessoa = Pessoa(\"João\", \"Carvalho\")\n",
    "print(pessoa.getNomeCompleto())\n",
    "pessoa.setPrimeiroNome(\"Maria\")\n",
    "pessoa.setUltimoNome(\"Silva\")\n",
    "print(pessoa.getNomeCompleto())"
   ]
  }
 ],
 "metadata": {
  "kernelspec": {
   "display_name": "Python 3",
   "language": "python",
   "name": "python3"
  },
  "language_info": {
   "codemirror_mode": {
    "name": "ipython",
    "version": 3
   },
   "file_extension": ".py",
   "mimetype": "text/x-python",
   "name": "python",
   "nbconvert_exporter": "python",
   "pygments_lexer": "ipython3",
   "version": "3.11.0"
  }
 },
 "nbformat": 4,
 "nbformat_minor": 2
}
