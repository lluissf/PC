{
 "cells": [
  {
   "cell_type": "markdown",
   "id": "bd8224fa",
   "metadata": {},
   "source": [
    "1. Crie uma hierarquia de classes para animais, com uma classe mãe Animal e subclasses Cachorro,\n",
    "Gato e Peixe. Cada subclasse deve ter um método falar() que retorne uma string\n",
    "representando o som que o animal faz. Demonstre o polimorfismo chamando falar() nas\n",
    "instâncias de cada subclasse."
   ]
  },
  {
   "cell_type": "code",
   "execution_count": 1,
   "id": "f10f4d9d",
   "metadata": {},
   "outputs": [
    {
     "name": "stdout",
     "output_type": "stream",
     "text": [
      "O Cachorro faz Au Au\n",
      "O Gato faz Miau\n",
      "O Peixe faz Glub\n"
     ]
    }
   ],
   "source": [
    "class Animal():\n",
    "    def __init__(self, species):\n",
    "        self.species = species\n",
    "\n",
    "\n",
    "class Cachorro(Animal):\n",
    "    def __init__(self, species):\n",
    "        super().__init__(species)\n",
    "    def falar(self):\n",
    "        return 'Au Au'\n",
    "\n",
    "class Gato(Animal):\n",
    "    def __init__(self, species):\n",
    "        super().__init__(species)\n",
    "    def falar(self):\n",
    "        return 'Miau'\n",
    "\n",
    "class Peixe(Animal):\n",
    "    def __init__(self, species):\n",
    "        super().__init__(species)\n",
    "    def falar(self):\n",
    "        return 'Glub'\n",
    "    \n",
    "cachorro = Cachorro('Cachorro')\n",
    "gato = Gato('Gato')\n",
    "peixe = Peixe('Peixe')\n",
    "\n",
    "print(f'O {cachorro.species} faz {cachorro.falar()}')\n",
    "print(f'O {gato.species} faz {gato.falar()}')\n",
    "print(f'O {peixe.species} faz {peixe.falar()}')\n"
   ]
  },
  {
   "cell_type": "markdown",
   "id": "f3ac97ca",
   "metadata": {},
   "source": [
    "2. Crie uma classe Animal com um método falar(). Em seguida, crie duas classes filhas,\n",
    "Cachorro e Gato, que herdam da classe Animal. Cada uma destas classes filhas deve ter seu\n",
    "próprio método falar() que retorne um som diferente (e.g. latidos para o cachorro e miados para\n",
    "o gato). \n",
    "Em seguida, crie uma lista de animais que inclua um cachorro e um gato. Por fim, itere\n",
    "sobre a lista e chame o método falar() de cada animal."
   ]
  },
  {
   "cell_type": "code",
   "execution_count": 2,
   "id": "3f89be2f",
   "metadata": {},
   "outputs": [
    {
     "name": "stdout",
     "output_type": "stream",
     "text": [
      "O Cachorro faz Au Au\n",
      "O Gato faz Miau\n"
     ]
    }
   ],
   "source": [
    "class Animal():\n",
    "    def __init__(self, species):\n",
    "        self.species = species\n",
    "\n",
    "\n",
    "class Cachorro(Animal):\n",
    "    def __init__(self, species):\n",
    "        super().__init__(species)\n",
    "    def falar(self):\n",
    "        return 'Au Au'\n",
    "\n",
    "class Gato(Animal):\n",
    "    def __init__(self, species):\n",
    "        super().__init__(species)\n",
    "    def falar(self):\n",
    "        return 'Miau'\n",
    "\n",
    " \n",
    "    \n",
    "cachorro = Cachorro('Cachorro')\n",
    "gato = Gato('Gato') \n",
    "lista = [cachorro, gato]\n",
    "for animal in lista:\n",
    "    print(f'O {animal.species} faz {animal.falar()}')\n"
   ]
  },
  {
   "cell_type": "markdown",
   "id": "0fa689d2",
   "metadata": {},
   "source": [
    "3. Crie uma classe chamada Carro com um método dirigir(). Em seguida, crie duas subclasses,\n",
    "CarroGasolina e CarroEletrico, cada uma com sua própria implementação de dirigir().\n",
    "Demonstre o polimorfismo passando instâncias de ambas as subclasses para uma função que recebe\n",
    "um objeto Carro."
   ]
  },
  {
   "cell_type": "code",
   "execution_count": 3,
   "id": "f6bc75b8",
   "metadata": {},
   "outputs": [
    {
     "name": "stdout",
     "output_type": "stream",
     "text": [
      "Dirigindo um carro a Gasolina\n",
      "Dirigindo um carro Eletrico\n"
     ]
    }
   ],
   "source": [
    "class Carro():\n",
    "    def __init__(self, modelo):\n",
    "        self.modelo = modelo   \n",
    "\n",
    "class CarroGasolina(Carro):\n",
    "    def __init__(self, modelo):\n",
    "        super().__init__(modelo)\n",
    "        self.tipo = 'Gasolina'\n",
    "    def dirigir(self):\n",
    "        return 'Dirigindo um carro a Gasolina' \n",
    "\n",
    "class CarroEletrico(Carro):\n",
    "    def __init__(self, modelo):\n",
    "        super().__init__(modelo)\n",
    "        self.tipo = 'Eletrico'\n",
    "    def dirigir(self):\n",
    "        return 'Dirigindo um carro Eletrico'  \n",
    "\n",
    "carro1 = CarroGasolina('Fusca')\n",
    "carro2 = CarroEletrico('Tesla')\n",
    "lista = [carro1, carro2]\n",
    "for carro in lista:\n",
    "    print(f'{carro.dirigir()}')"
   ]
  },
  {
   "cell_type": "markdown",
   "id": "9fa6b9f9",
   "metadata": {},
   "source": [
    "4. Crie uma classe Forma com um método area(). Em seguida, crie duas classes filhas, Circulo e\n",
    "Quadrado, que herdam da classe Forma. Cada uma destas classes filhas deve ter seu próprio\n",
    "método area() que calcula a área do círculo ou do quadrado, respectivamente. Em seguida, crie\n",
    "uma lista de formas que inclua um círculo e um quadrado. Por fim, itere sobre a lista e chame o\n",
    "método area() de cada forma.\n",
    "\n"
   ]
  },
  {
   "cell_type": "code",
   "execution_count": 4,
   "id": "006abf08",
   "metadata": {},
   "outputs": [
    {
     "name": "stdout",
     "output_type": "stream",
     "text": [
      "[28.274333882308138, 36]\n"
     ]
    }
   ],
   "source": [
    "from math import pi\n",
    "\n",
    "class Forma():\n",
    "\n",
    "  def area(self):\n",
    "    pass\n",
    "\n",
    "class Circulo(Forma):\n",
    "\n",
    "  def __init__(self, raio):\n",
    "    self.raio = raio\n",
    "\n",
    "  def area(self):\n",
    "    return pi*(self.raio**2)\n",
    "\n",
    "class Quadrado(Forma):\n",
    "  def __init__(self, lado):\n",
    "    self.lado = lado\n",
    "\n",
    "  def area(self):\n",
    "    return self.lado**2\n",
    "\n",
    "\n",
    "bola = Circulo(3)\n",
    "pc = Quadrado(6)\n",
    "\n",
    "print([i.area() for i in [bola, pc]])"
   ]
  },
  {
   "cell_type": "markdown",
   "id": "d920d35b",
   "metadata": {},
   "source": [
    "5. Crie uma classe Empregado com um método pagar_salario(). Em seguida, crie duas classes\n",
    "filhas, EmpregadoHora e EmpregadoMes, que herdam da classe Empregado. Cada uma das\n",
    "classes filhas deve ter seu próprio método pagar_salario() que calcula o salário com base no\n",
    "número de horas trabalhadas ou no salário mensal, respectivamente. Em seguida, crie uma lista de\n",
    "funcionários que inclua um funcionário horista e um funcionário mensalista. Por fim, itere sobre a\n",
    "lista e chame o método pagar_salario() de cada funcionário."
   ]
  },
  {
   "cell_type": "code",
   "execution_count": 5,
   "id": "340447e2",
   "metadata": {},
   "outputs": [
    {
     "name": "stdout",
     "output_type": "stream",
     "text": [
      "[100, 1518]\n"
     ]
    }
   ],
   "source": [
    "class Empregado():\n",
    "  def pagar_salario(self):\n",
    "    pass\n",
    "\n",
    "class EmpregadoHora(Empregado):\n",
    "  def __init__(self, numeroDeHoras, valorPorHora):\n",
    "    self.numeroDeHoras = numeroDeHoras\n",
    "    self.valorPorHora = valorPorHora\n",
    "\n",
    "  def pagar_salario(self):\n",
    "    return self.numeroDeHoras * self.valorPorHora\n",
    "\n",
    "class EmpregadoMes(Empregado):\n",
    "  def __init__(self, salario):\n",
    "    self.salario = salario\n",
    "\n",
    "  def pagar_salario(self):\n",
    "    return self.salario\n",
    "\n",
    "Tomas = EmpregadoHora(2, 50)\n",
    "Henrique = EmpregadoMes(1518)\n",
    "\n",
    "print([i.pagar_salario() for i in [Tomas, Henrique]])"
   ]
  },
  {
   "cell_type": "markdown",
   "id": "dcb9faf5",
   "metadata": {},
   "source": [
    "6. Crie uma classe chamada ContaBancaria com os métodos deposito() e retirada(). Crie\n",
    "duas subclasses: ContaPoupanca e ContaCorrente. Cada uma dessas subclasses deve ter sua\n",
    "própria taxa de juros (a taxa de juros da Conta Poupança é maior que a da Conta Corrente)."
   ]
  },
  {
   "cell_type": "code",
   "execution_count": 6,
   "id": "bd8788c0",
   "metadata": {},
   "outputs": [
    {
     "name": "stdout",
     "output_type": "stream",
     "text": [
      "Depósito de R$500.00 realizado. Saldo atual: R$1500.00\n",
      "Retirada de R$200.00 realizada. Saldo atual: R$1300.00\n",
      "Juros de R$65.00 aplicados. Novo saldo: R$1365.00\n",
      "Saldo atual: R$1365.00\n",
      "\n",
      "Depósito de R$300.00 realizado. Saldo atual: R$1300.00\n",
      "Retirada de R$100.00 realizada. Saldo atual: R$1200.00\n",
      "Juros de R$24.00 aplicados. Novo saldo: R$1224.00\n",
      "Saldo atual: R$1224.00\n"
     ]
    }
   ],
   "source": [
    "class ContaBancaria:\n",
    "    def __init__(self, saldo=0):\n",
    "        self.saldo = saldo\n",
    "\n",
    "    def deposito(self, valor):\n",
    "        self.saldo += valor\n",
    "        print(f\"Depósito de R${valor:.2f} realizado. Saldo atual: R${self.saldo:.2f}\")\n",
    "\n",
    "    def retirada(self, valor):\n",
    "        if valor <= self.saldo:\n",
    "            self.saldo -= valor\n",
    "            print(f\"Retirada de R${valor:.2f} realizada. Saldo atual: R${self.saldo:.2f}\")\n",
    "        else:\n",
    "            print(\"Saldo insuficiente para a retirada.\")\n",
    "\n",
    "    def mostrar_saldo(self):\n",
    "        print(f\"Saldo atual: R${self.saldo:.2f}\")\n",
    "\n",
    "class ContaPoupanca(ContaBancaria):\n",
    "    taxa_juros = 0.05\n",
    "\n",
    "    def calcular_juros(self):\n",
    "        juros = self.saldo * self.taxa_juros\n",
    "        self.saldo += juros\n",
    "        print(f\"Juros de R${juros:.2f} aplicados. Novo saldo: R${self.saldo:.2f}\")\n",
    "\n",
    "class ContaCorrente(ContaBancaria):\n",
    "    taxa_juros = 0.02\n",
    "\n",
    "    def calcular_juros(self):\n",
    "        juros = self.saldo * self.taxa_juros\n",
    "        self.saldo += juros\n",
    "        print(f\"Juros de R${juros:.2f} aplicados. Novo saldo: R${self.saldo:.2f}\")\n",
    "\n",
    "conta_poupanca = ContaPoupanca(1000)\n",
    "conta_corrente = ContaCorrente(1000)\n",
    "\n",
    "\n",
    "conta_poupanca.deposito(500)\n",
    "conta_poupanca.retirada(200)\n",
    "conta_poupanca.calcular_juros()\n",
    "conta_poupanca.mostrar_saldo()\n",
    "\n",
    "print()\n",
    "\n",
    "conta_corrente.deposito(300)\n",
    "conta_corrente.retirada(100)\n",
    "conta_corrente.calcular_juros()\n",
    "conta_corrente.mostrar_saldo()"
   ]
  }
 ],
 "metadata": {
  "kernelspec": {
   "display_name": "Python 3",
   "language": "python",
   "name": "python3"
  },
  "language_info": {
   "codemirror_mode": {
    "name": "ipython",
    "version": 3
   },
   "file_extension": ".py",
   "mimetype": "text/x-python",
   "name": "python",
   "nbconvert_exporter": "python",
   "pygments_lexer": "ipython3",
   "version": "3.11.0"
  }
 },
 "nbformat": 4,
 "nbformat_minor": 5
}
