{
 "cells": [
  {
   "cell_type": "markdown",
   "metadata": {},
   "source": [
    "1. Qual palavra-chave (keyword) você usaria para ter acesso às propriedades e métodos de uma classe\n",
    "estando dentro dela? \n",
    "c) A palavra-chave self"
   ]
  },
  {
   "cell_type": "markdown",
   "metadata": {},
   "source": [
    "Exercício de Codificação\n",
    "Na atividade prática anterior, escrevemos o método hello() dentro da classe Usuario. No exercício a\n",
    "seguir, adicionaremos a este método a capacidade de acessar as propriedades da classe com a palavra-chave\n",
    "self.\n",
    "A classe Usuario poderia ser codificada assim:\n"
   ]
  },
  {
   "cell_type": "code",
   "execution_count": 8,
   "metadata": {},
   "outputs": [],
   "source": [
    "class Usuario():\n",
    "    # as propriedades\n",
    "    primeiroNome = \"\"\n",
    "    ultimoNome = \"\"\n",
    "    #metodo que diz Olá ao usuario\n",
    "    def hello(self):\n",
    "        return \"Olá\""
   ]
  },
  {
   "cell_type": "markdown",
   "metadata": {},
   "source": [
    "2. Acrescente ao método hello() a capacidade de acessar a propriedade primeiroNome, para que\n",
    "o método possa retornar a string \"Olá, primeiroNome\"."
   ]
  },
  {
   "cell_type": "code",
   "execution_count": 9,
   "metadata": {},
   "outputs": [],
   "source": [
    "class Usuario():\n",
    "    # as propriedades\n",
    "    primeiroNome = \"\"\n",
    "    ultimoNome = \"\"\n",
    "    #metodo que diz Olá ao usuario\n",
    "    def hello(self):\n",
    "        return f\"Olá, {self.primeiroNome}\""
   ]
  },
  {
   "cell_type": "markdown",
   "metadata": {},
   "source": [
    "3. Crie um novo objeto com o primeiro nome de \"Jonnie\" e sobrenome de \"Bravo\"."
   ]
  },
  {
   "cell_type": "code",
   "execution_count": 10,
   "metadata": {},
   "outputs": [],
   "source": [
    "usuario = Usuario()\n",
    "usuario.primeiroNome = \"Jonnie\"\n",
    "usuario.ultimoNome = \"Bravo\""
   ]
  },
  {
   "cell_type": "markdown",
   "metadata": {},
   "source": [
    "4. Use o comando print no método hello() para o objeto usuario1 e observe o resultado."
   ]
  },
  {
   "cell_type": "code",
   "execution_count": 11,
   "metadata": {},
   "outputs": [
    {
     "name": "stdout",
     "output_type": "stream",
     "text": [
      "Olá, Jonnie\n"
     ]
    }
   ],
   "source": [
    "print(usuario.hello()) "
   ]
  }
 ],
 "metadata": {
  "kernelspec": {
   "display_name": "Python 3",
   "language": "python",
   "name": "python3"
  },
  "language_info": {
   "codemirror_mode": {
    "name": "ipython",
    "version": 3
   },
   "file_extension": ".py",
   "mimetype": "text/x-python",
   "name": "python",
   "nbconvert_exporter": "python",
   "pygments_lexer": "ipython3",
   "version": "3.11.0"
  }
 },
 "nbformat": 4,
 "nbformat_minor": 2
}
