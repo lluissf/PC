{
 "cells": [
  {
   "cell_type": "markdown",
   "metadata": {},
   "source": [
    "1. Qual das alternativas abaixo melhor define o termo “classe”?\n",
    "c) É a personificação de um objeto da vida real.\n",
    "2. Qual das alternativas abaixo melhor define o termo “objeto”?\n",
    "a) Um objeto nos dá a capacidade de trabalhar com a classe e ter várias instâncias desta mesma classe.\n",
    "3. Qual das alternativas abaixo melhor explica o termo \"propriedade\"?\n",
    "b) Uma variável dentro de uma classe.\n",
    "4. Qual das alternativas abaixo melhor explica o termo \"método\"?\n",
    "a) Uma função dentro de uma classe.\n",
    "\n",
    "Exercício de codificação\n",
    "Quase todos os aplicativos ou blogs lidam com os usuários. Seja o processo de registro (cadastro), o login e\n",
    "logout, o envio de lembretes aos usuários que perderam suas senhas ou a alteração delas sob demanda, todo\n",
    "o código que lida com os usuários pode ser agrupado em uma única classe. Em nosso exemplo, chamamos a\n",
    "classe que lida com usuários, Usuario, de acordo com a convenção de nomenclatura vigente.\n",
    "Vamos escrever uma classe Usuario com as ferramentas que acabamos de adquirir. Esta classe conterá o nome\n",
    "e sobrenome de cada usuário e será capaz de dizer “Olá” a qualquer pessoa que use nosso aplicativo."
   ]
  },
  {
   "cell_type": "markdown",
   "metadata": {},
   "source": [
    "5. Escreva o que você acha que deveria ser o nome da classe, os nomes das propriedades para o\n",
    "primeiro e último nome (sobrenome) e o nome do método que retorna “Olá”.\n",
    "Nome da classe: Usuario\n",
    "Propriedades: nome , sobrenome\n",
    "Método: cumprimentar"
   ]
  },
  {
   "cell_type": "markdown",
   "metadata": {},
   "source": [
    "6. Escreva a classe Usuario e adicione as propriedades e o método (em Python):"
   ]
  },
  {
   "cell_type": "code",
   "execution_count": 3,
   "metadata": {},
   "outputs": [],
   "source": [
    "class Usuario:\n",
    "  nome = \"\"\n",
    "  sobrenome = \"\"\n",
    "  def cumprimentar(self):\n",
    "    return f\"Olá, {self.nome} {self.sobrenome}!\"\n",
    "\n"
   ]
  },
  {
   "cell_type": "markdown",
   "metadata": {},
   "source": [
    "7. Crie a primeira instância e chame-a de usuario1. "
   ]
  },
  {
   "cell_type": "code",
   "execution_count": 4,
   "metadata": {},
   "outputs": [],
   "source": [
    "usuario1 = Usuario()"
   ]
  },
  {
   "cell_type": "markdown",
   "metadata": {},
   "source": [
    "8. Defina os valores do primeiro e último nome para usuario1."
   ]
  },
  {
   "cell_type": "code",
   "execution_count": 5,
   "metadata": {},
   "outputs": [],
   "source": [
    "usuario1.nome = \"João\"\n",
    "usuario1.sobrenome = \"Silva\"\n"
   ]
  },
  {
   "cell_type": "markdown",
   "metadata": {},
   "source": [
    "9. Obter o nome e sobrenome do usuário e imprima-os na tela com o comando print."
   ]
  },
  {
   "cell_type": "code",
   "execution_count": 6,
   "metadata": {},
   "outputs": [
    {
     "name": "stdout",
     "output_type": "stream",
     "text": [
      "Nome: João. Sobrenome: Silva.\n"
     ]
    }
   ],
   "source": [
    "print(f\"Nome: {usuario1.nome}. Sobrenome: {usuario1.sobrenome}.\")"
   ]
  },
  {
   "cell_type": "markdown",
   "metadata": {},
   "source": [
    "10. Use o método que retorna “Olá” com as variáveis primeiro nome e último nome para dizer Olá ao usuário."
   ]
  },
  {
   "cell_type": "code",
   "execution_count": 7,
   "metadata": {},
   "outputs": [
    {
     "name": "stdout",
     "output_type": "stream",
     "text": [
      "Olá, João Silva!\n"
     ]
    }
   ],
   "source": [
    "print(usuario1.cumprimentar())"
   ]
  },
  {
   "cell_type": "markdown",
   "metadata": {},
   "source": [
    "11. Crie (instancie) outro objeto. Chame-o de usuario2, dê a ele o primeiro nome de “Jane” e o sobrenome de “Silva”, e depois diga “Olá” ao usuário."
   ]
  },
  {
   "cell_type": "code",
   "execution_count": 8,
   "metadata": {},
   "outputs": [
    {
     "name": "stdout",
     "output_type": "stream",
     "text": [
      "Olá, Jane Silva!\n"
     ]
    }
   ],
   "source": [
    "usuario2 = Usuario()\n",
    "usuario2.nome = \"Jane\"\n",
    "usuario2.sobrenome = \"Silva\"\n",
    "print(usuario2.cumprimentar())"
   ]
  }
 ],
 "metadata": {
  "kernelspec": {
   "display_name": "Python 3",
   "language": "python",
   "name": "python3"
  },
  "language_info": {
   "codemirror_mode": {
    "name": "ipython",
    "version": 3
   },
   "file_extension": ".py",
   "mimetype": "text/x-python",
   "name": "python",
   "nbconvert_exporter": "python",
   "pygments_lexer": "ipython3",
   "version": "3.11.0"
  }
 },
 "nbformat": 4,
 "nbformat_minor": 2
}
