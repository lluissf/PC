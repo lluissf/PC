{
 "cells": [
  {
   "cell_type": "markdown",
   "id": "b2385a19",
   "metadata": {},
   "source": [
    "1. Acrescente na classe Usuario métodos para definir e obter o número de artigos:\n",
    "a) setNumeroDeArtigos(self, nart)\n",
    "b) getNumeroDeArtigos(self)\n",
    "Obs: variável nart deve ser um inteiro"
   ]
  },
  {
   "cell_type": "code",
   "execution_count": 2,
   "id": "f13ac625",
   "metadata": {},
   "outputs": [],
   "source": [
    "class Usuario:\n",
    "    pontos = 0\n",
    "    numeroDeArtigos = 0\n",
    "    # Métodos vão aqui    \n",
    "    def setNumeroDeArtigos(self, nart=int):\n",
    "        self.numeroDeArtigos = nart\n",
    "    def getNumeroDeArtigos(self):\n",
    "        return self.numeroDeArtigos\n",
    "\n",
    "    "
   ]
  },
  {
   "cell_type": "markdown",
   "id": "26022d16",
   "metadata": {},
   "source": [
    "\n",
    "2. Acrescente à classe o método chamado calcPontuacao(), que realiza os cálculos das pontuações\n",
    "separadamente para cada classe.\n",
    "\n",
    "3. Crie uma classe chamada Autor que herda da classe de Usuario. Nesta classe (Autor) crie um\n",
    "método chamado calcPontuacao() que retorna o número de pontuações usando o seguinte\n",
    "cálculo:\n",
    "\n",
    "numeroDeArtigos * 10 + 20"
   ]
  },
  {
   "cell_type": "code",
   "execution_count": 5,
   "id": "d0d458c1",
   "metadata": {},
   "outputs": [],
   "source": [
    "class Autor(Usuario):   \n",
    "    \n",
    "    def calcPontuacao(self):\n",
    "        self.pontos = super().numeroDeArtigos * 10 + 20\n",
    "        return self.pontos"
   ]
  },
  {
   "cell_type": "markdown",
   "id": "ddb1339b",
   "metadata": {},
   "source": [
    "\n",
    "4. Agora crie também uma classe chamada Editor que herda da classe Usuario. Nesta classe\n",
    "(Editor), crie um método chamado calcPontuacao() que retorne o número de pontuações\n",
    "usando o seguinte cálculo:\n",
    "\n",
    "numeroDeArtigos * 6 + 15"
   ]
  },
  {
   "cell_type": "code",
   "execution_count": null,
   "id": "2fd3c81f",
   "metadata": {},
   "outputs": [],
   "source": [
    "class Editor(Usuario):\n",
    "    \n",
    "    def calcPontuacao(self):\n",
    "        return super().numeroDeArtigos * 6 + 15\n"
   ]
  },
  {
   "cell_type": "markdown",
   "id": "6dd3ed56",
   "metadata": {},
   "source": [
    "5. Crie um objeto chamado autor1, a partir da classe Autor. Agora defina o número de artigos como\n",
    "8 e imprima as pontuações obtidas pelo autor."
   ]
  },
  {
   "cell_type": "code",
   "execution_count": 8,
   "id": "ca4c86e1",
   "metadata": {},
   "outputs": [
    {
     "name": "stdout",
     "output_type": "stream",
     "text": [
      "20\n"
     ]
    }
   ],
   "source": [
    "autor1 = Autor()\n",
    "autor1.setNumeroDeArtigos(8)\n",
    "print(autor1.calcPontuacao())"
   ]
  },
  {
   "cell_type": "markdown",
   "id": "f7480a9b",
   "metadata": {},
   "source": [
    "\n",
    "6. Crie outro objeto chamado editor1, a partir da classe Editor. Agora defina o número de artigos\n",
    "para 15 e imprima as pontuações que o editor ganhou."
   ]
  },
  {
   "cell_type": "code",
   "execution_count": 11,
   "id": "db88e778",
   "metadata": {},
   "outputs": [
    {
     "name": "stdout",
     "output_type": "stream",
     "text": [
      "15\n"
     ]
    }
   ],
   "source": [
    "editor1 = Editor()\n",
    "editor1.setNumeroDeArtigos(15)\n",
    "print(editor1.calcPontuacao())"
   ]
  }
 ],
 "metadata": {
  "kernelspec": {
   "display_name": "Python 3",
   "language": "python",
   "name": "python3"
  },
  "language_info": {
   "codemirror_mode": {
    "name": "ipython",
    "version": 3
   },
   "file_extension": ".py",
   "mimetype": "text/x-python",
   "name": "python",
   "nbconvert_exporter": "python",
   "pygments_lexer": "ipython3",
   "version": "3.11.0"
  }
 },
 "nbformat": 4,
 "nbformat_minor": 5
}
