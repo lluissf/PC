{
 "cells": [
  {
   "cell_type": "markdown",
   "metadata": {},
   "source": [
    "1. Importe o módulo math e calcule a raiz quadrada de um número inteiro.\n",
    "\n"
   ]
  },
  {
   "cell_type": "code",
   "execution_count": 2,
   "metadata": {},
   "outputs": [
    {
     "data": {
      "text/plain": [
       "49"
      ]
     },
     "execution_count": 2,
     "metadata": {},
     "output_type": "execute_result"
    }
   ],
   "source": [
    "import math\n",
    "\n",
    "numero = 16\n",
    "raiz = math.sqrt(numero)\n",
    "print(f\"A raiz quadrada de {numero} é {raiz}\")\n"
   ]
  },
  {
   "cell_type": "markdown",
   "metadata": {},
   "source": [
    "2. Importe o módulo datetime e exiba a data e hora atuais.\n"
   ]
  },
  {
   "cell_type": "code",
   "execution_count": 1,
   "metadata": {},
   "outputs": [
    {
     "name": "stdout",
     "output_type": "stream",
     "text": [
      "A data e hora atuais são: 2024-12-16 07:33:31.365717\n"
     ]
    }
   ],
   "source": [
    "from datetime import datetime\n",
    "\n",
    "data_hora_atual = datetime.now()\n",
    "print(f\"A data e hora atuais são: {data_hora_atual}\")"
   ]
  },
  {
   "cell_type": "markdown",
   "metadata": {},
   "source": [
    "3. Use o módulo string para verificar se uma string contém apenas dígitos.\n"
   ]
  },
  {
   "cell_type": "code",
   "execution_count": 2,
   "metadata": {},
   "outputs": [
    {
     "name": "stdout",
     "output_type": "stream",
     "text": [
      "A string '12345' contém apenas dígitos.\n"
     ]
    }
   ],
   "source": [
    "import string\n",
    "\n",
    "string_teste = \"12345\"\n",
    "if string_teste.isdigit():\n",
    "    print(f\"A string '{string_teste}' contém apenas dígitos.\")\n",
    "else:\n",
    "    print(f\"A string '{string_teste}' não contém apenas dígitos.\")\n",
    "\n"
   ]
  },
  {
   "cell_type": "markdown",
   "metadata": {},
   "source": [
    "4. Importe o módulo random e gere um número aleatório entre 1 e 100.\n"
   ]
  },
  {
   "cell_type": "code",
   "execution_count": 16,
   "metadata": {},
   "outputs": [
    {
     "name": "stdout",
     "output_type": "stream",
     "text": [
      "11\n"
     ]
    }
   ],
   "source": [
    "import random\n",
    "\n",
    "numero_aleatorio = random.randint(1, 100)\n",
    "print(f\"Número aleatório entre 1 e 100: {numero_aleatorio}\")"
   ]
  },
  {
   "cell_type": "markdown",
   "metadata": {},
   "source": [
    "5. Importe a biblioteca numpy e crie uma array com os números de 1 a 10.\n"
   ]
  },
  {
   "cell_type": "code",
   "execution_count": null,
   "metadata": {},
   "outputs": [],
   "source": [
    "import numpy as np\n",
    "\n",
    "array = np.arange(1, 11)\n",
    "print(f\"Array com números de 1 a 10: {array}\")\n"
   ]
  },
  {
   "cell_type": "markdown",
   "metadata": {},
   "source": [
    "6. Escreva um programa que importe o pacote numpy e crie uma matriz de zeros\n",
    "com dimensões 3x3.\n",
    "\n"
   ]
  },
  {
   "cell_type": "code",
   "execution_count": 3,
   "metadata": {},
   "outputs": [
    {
     "name": "stdout",
     "output_type": "stream",
     "text": [
      "Matriz 3x3 de zeros:\n",
      "[[0. 0. 0.]\n",
      " [0. 0. 0.]\n",
      " [0. 0. 0.]]\n"
     ]
    }
   ],
   "source": [
    "import numpy as np\n",
    "\n",
    "matriz_zeros = np.zeros((3, 3))\n",
    "print(\"Matriz 3x3 de zeros:\")\n",
    "print(matriz_zeros)\n"
   ]
  },
  {
   "cell_type": "markdown",
   "metadata": {},
   "source": [
    "7. Importe a biblioteca matplotlib e crie um gráfico de barras simples com alguns\n",
    "dados fictícios.\n"
   ]
  },
  {
   "cell_type": "code",
   "execution_count": null,
   "metadata": {},
   "outputs": [],
   "source": [
    "import matplotlib.pyplot as plt\n",
    "\n",
    "categorias = ['A', 'B', 'C', 'D']\n",
    "valores = [10, 20, 15, 25]\n",
    "\n",
    "plt.bar(categorias, valores, color='blue')\n",
    "plt.title(\"Gráfico de Barras\")\n",
    "plt.xlabel(\"Categorias\")\n",
    "plt.ylabel(\"Valores\")\n",
    "plt.show()"
   ]
  },
  {
   "cell_type": "markdown",
   "metadata": {},
   "source": [
    "8. Escreva um programa que importe o pacote matplotlib e plote a função seno.\n"
   ]
  },
  {
   "cell_type": "code",
   "execution_count": null,
   "metadata": {},
   "outputs": [],
   "source": [
    "import numpy as np\n",
    "import matplotlib.pyplot as plt\n",
    "\n",
    "x = np.linspace(0, 2 * np.pi, 100)\n",
    "y = np.sin(x)\n",
    "\n",
    "plt.plot(x, y, label='Seno')\n",
    "plt.title(\"Função Seno\")\n",
    "plt.xlabel(\"x\")\n",
    "plt.ylabel(\"sen(x)\")\n",
    "plt.legend()\n",
    "plt.grid()\n",
    "plt.show()\n"
   ]
  },
  {
   "cell_type": "markdown",
   "metadata": {},
   "source": [
    "9. Importe o pacote requests e faça uma requisição HTTP para um URL e exiba o\n",
    "código de status.\n"
   ]
  },
  {
   "cell_type": "code",
   "execution_count": null,
   "metadata": {},
   "outputs": [],
   "source": [
    "import requests\n",
    "\n",
    "url = \"https://www.google.com\"\n",
    "response = requests.get(url)\n",
    "print(f\"Código de status: {response.status_code}\")\n"
   ]
  },
  {
   "cell_type": "markdown",
   "metadata": {},
   "source": [
    "10. Importe a biblioteca pandas, leia um arquivo CSV (por exemplo, \"dados.csv\") e\n",
    "exiba as primeiras linhas do DataFrame.\n"
   ]
  },
  {
   "cell_type": "code",
   "execution_count": null,
   "metadata": {},
   "outputs": [],
   "source": [
    "import pandas as pd\n",
    "\n",
    "# Certifique-se de ter um arquivo \"dados.csv\" no diretório atual.\n",
    "# Exemplo de conteúdo de \"dados.csv\":\n",
    "# Nome,Idade\n",
    "# João,25\n",
    "# Maria,30\n",
    "# Pedro,22\n",
    "\n",
    "df = pd.read_csv(\"dados.csv\")\n",
    "print(\"Primeiras linhas do DataFrame:\")\n",
    "print(df.head())\n"
   ]
  },
  {
   "cell_type": "markdown",
   "metadata": {},
   "source": [
    "11. Escreva um programa que importe o módulo os e imprima o diretório de trabalho\n",
    "atual.\n"
   ]
  },
  {
   "cell_type": "code",
   "execution_count": null,
   "metadata": {},
   "outputs": [],
   "source": [
    "import os\n",
    "\n",
    "diretorio_atual = os.getcwd()\n",
    "print(f\"Diretório de trabalho atual: {diretorio_atual}\")\n"
   ]
  },
  {
   "cell_type": "markdown",
   "metadata": {},
   "source": [
    "12. Escreva um programa que importe o pacote beautifulsoup4 e faça a raspagem\n",
    "de dados (web crawling) de uma página HTML."
   ]
  },
  {
   "cell_type": "code",
   "execution_count": 4,
   "metadata": {},
   "outputs": [
    {
     "ename": "ModuleNotFoundError",
     "evalue": "No module named 'requests'",
     "output_type": "error",
     "traceback": [
      "\u001b[1;31m---------------------------------------------------------------------------\u001b[0m",
      "\u001b[1;31mModuleNotFoundError\u001b[0m                       Traceback (most recent call last)",
      "Cell \u001b[1;32mIn[4], line 1\u001b[0m\n\u001b[1;32m----> 1\u001b[0m \u001b[38;5;28;01mimport\u001b[39;00m \u001b[38;5;21;01mrequests\u001b[39;00m\n\u001b[0;32m      2\u001b[0m \u001b[38;5;28;01mfrom\u001b[39;00m \u001b[38;5;21;01mbs4\u001b[39;00m \u001b[38;5;28;01mimport\u001b[39;00m BeautifulSoup\n\u001b[0;32m      4\u001b[0m url \u001b[38;5;241m=\u001b[39m \u001b[38;5;124m\"\u001b[39m\u001b[38;5;124mhttps://goggle.com\u001b[39m\u001b[38;5;124m\"\u001b[39m  \u001b[38;5;66;03m# Substitua pelo site desejado\u001b[39;00m\n",
      "\u001b[1;31mModuleNotFoundError\u001b[0m: No module named 'requests'"
     ]
    }
   ],
   "source": [
    "import requests\n",
    "from bs4 import BeautifulSoup\n",
    " \n",
    "url = \"https://goggle.com\"  # Substitua pelo site desejado\n",
    " \n",
    "response = requests.get(url) \n",
    "if response.status_code == 200: \n",
    "    soup = BeautifulSoup(response.text, 'html.parser') \n",
    "    titulo = soup.title.string\n",
    "    print(f\"Título da página: {titulo}\") \n",
    "    links = soup.find_all('a')   \n",
    "    print(\"\\nLinks encontrados na página:\")\n",
    "    for link in links:\n",
    "        print(link.get('href'))   \n",
    "else:\n",
    "    print(f\"Erro ao acessar a página. Código de status: {response.status_code}\")\n"
   ]
  },
  {
   "cell_type": "markdown",
   "metadata": {},
   "source": [
    "13. Crie um módulo personalizado chamado de calculadora com uma função que\n",
    "some dois números. Em seguida, importe e use essa função.\n",
    "\n"
   ]
  },
  {
   "cell_type": "markdown",
   "metadata": {},
   "source": [
    "14. Suponha que estamos desenvolvendo um jogo. Uma possível organização de\n",
    "pacotes e módulos poderia ser mostrada na figura abaixo."
   ]
  }
 ],
 "metadata": {
  "kernelspec": {
   "display_name": "Python 3",
   "language": "python",
   "name": "python3"
  },
  "language_info": {
   "codemirror_mode": {
    "name": "ipython",
    "version": 3
   },
   "file_extension": ".py",
   "mimetype": "text/x-python",
   "name": "python",
   "nbconvert_exporter": "python",
   "pygments_lexer": "ipython3",
   "version": "3.12.8"
  }
 },
 "nbformat": 4,
 "nbformat_minor": 2
}
