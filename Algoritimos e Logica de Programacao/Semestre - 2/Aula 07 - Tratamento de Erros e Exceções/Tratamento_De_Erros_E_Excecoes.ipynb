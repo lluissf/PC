{
 "cells": [
  {
   "cell_type": "markdown",
   "metadata": {
    "id": "EDp25acKqjZX"
   },
   "source": [
    "# <font color='blue'>**Tratamento de Erros e Exceções**</font>\n",
    "\n",
    "### **Baseado nos materiais da Data Science Academy e Real Python**\n"
   ]
  },
  {
   "cell_type": "code",
   "execution_count": 1,
   "metadata": {
    "id": "7AUl7eHtqjZa"
   },
   "outputs": [
    {
     "name": "stdout",
     "output_type": "stream",
     "text": [
      "Python 3.12.8\n"
     ]
    }
   ],
   "source": [
    "# Versão da Linguagem Python\n",
    "!python --version"
   ]
  },
  {
   "cell_type": "markdown",
   "metadata": {
    "id": "TUa8v_V7fisg"
   },
   "source": [
    "####  Um programa Python termina assim que encontra um erro. Ele pode ser um erro de **sintaxe** ou uma **exceção**"
   ]
  },
  {
   "cell_type": "markdown",
   "metadata": {
    "id": "rD9Zq0WbqjZc"
   },
   "source": [
    "### **Mensagem de erros de sintaxe no Python**"
   ]
  },
  {
   "cell_type": "markdown",
   "metadata": {
    "id": "3zQxaqhegou3"
   },
   "source": [
    "Erros de sintaxe (_SintaxError_) ocorrem quando o analisador da linguagem, também chamado de _parser_ detecta uma instrução incorreta. Observe o exemplo abaixo:"
   ]
  },
  {
   "cell_type": "code",
   "execution_count": null,
   "metadata": {
    "colab": {
     "base_uri": "https://localhost:8080/",
     "height": 145
    },
    "id": "Si-_CzbRqjZc",
    "outputId": "fe01895e-c6f2-4677-b889-cb2ed4b61b0d",
    "scrolled": true
   },
   "outputs": [
    {
     "ename": "SyntaxError",
     "evalue": "ignored",
     "output_type": "error",
     "traceback": [
      "\u001b[0;36m  File \u001b[0;32m\"<ipython-input-1-8a4956c51ec3>\"\u001b[0;36m, line \u001b[0;32m2\u001b[0m\n\u001b[0;31m    print('Olá)\u001b[0m\n\u001b[0m          ^\u001b[0m\n\u001b[0;31mSyntaxError\u001b[0m\u001b[0;31m:\u001b[0m unterminated string literal (detected at line 2)\n"
     ]
    }
   ],
   "source": [
    "# Erro\n",
    "print('Olá)"
   ]
  },
  {
   "cell_type": "markdown",
   "metadata": {
    "id": "ou7068lGhW1c"
   },
   "source": [
    "Observe que existe uma \"seta\" a qual indica onde o _parser_ encontrou o **erro de sintaxe**."
   ]
  },
  {
   "cell_type": "markdown",
   "metadata": {
    "id": "NhCRmPE4mvo7"
   },
   "source": [
    "Agora vamos criar uma função e executá-la com alguns dados para ver o que acontece."
   ]
  },
  {
   "cell_type": "code",
   "execution_count": null,
   "metadata": {
    "id": "Yo24S_K7qjZd"
   },
   "outputs": [],
   "source": [
    "# Criando uma função\n",
    "def numDiv (num1, num2):\n",
    "  resultado = num1 / num2\n",
    "  print(resultado)"
   ]
  },
  {
   "cell_type": "code",
   "execution_count": null,
   "metadata": {
    "id": "uCvCMdEzqjZd"
   },
   "outputs": [],
   "source": [
    "# Execução não gera erro\n",
    "numDiv(4,2)"
   ]
  },
  {
   "cell_type": "code",
   "execution_count": null,
   "metadata": {
    "id": "ridt77ylqjZd",
    "outputId": "1b19ff45-04e4-4706-df5f-049faf7ea289"
   },
   "outputs": [
    {
     "ename": "ZeroDivisionError",
     "evalue": "division by zero",
     "output_type": "error",
     "traceback": [
      "\u001b[0;31m---------------------------------------------------------------------------\u001b[0m",
      "\u001b[0;31mZeroDivisionError\u001b[0m                         Traceback (most recent call last)",
      "\u001b[0;32m<ipython-input-5-b0b571bcf93d>\u001b[0m in \u001b[0;36m<module>\u001b[0;34m\u001b[0m\n\u001b[1;32m      1\u001b[0m \u001b[0;31m# Execução gerando erro\u001b[0m\u001b[0;34m\u001b[0m\u001b[0;34m\u001b[0m\u001b[0;34m\u001b[0m\u001b[0m\n\u001b[0;32m----> 2\u001b[0;31m \u001b[0mnumDiv\u001b[0m\u001b[0;34m(\u001b[0m\u001b[0;36m4\u001b[0m\u001b[0;34m,\u001b[0m\u001b[0;36m0\u001b[0m\u001b[0;34m)\u001b[0m\u001b[0;34m\u001b[0m\u001b[0;34m\u001b[0m\u001b[0m\n\u001b[0m",
      "\u001b[0;32m<ipython-input-3-b4d5bff9dfcf>\u001b[0m in \u001b[0;36mnumDiv\u001b[0;34m(num1, num2)\u001b[0m\n\u001b[1;32m      1\u001b[0m \u001b[0;31m# Criando uma função\u001b[0m\u001b[0;34m\u001b[0m\u001b[0;34m\u001b[0m\u001b[0;34m\u001b[0m\u001b[0m\n\u001b[1;32m      2\u001b[0m \u001b[0;32mdef\u001b[0m \u001b[0mnumDiv\u001b[0m \u001b[0;34m(\u001b[0m\u001b[0mnum1\u001b[0m\u001b[0;34m,\u001b[0m \u001b[0mnum2\u001b[0m\u001b[0;34m)\u001b[0m\u001b[0;34m:\u001b[0m\u001b[0;34m\u001b[0m\u001b[0;34m\u001b[0m\u001b[0m\n\u001b[0;32m----> 3\u001b[0;31m     \u001b[0mresultado\u001b[0m \u001b[0;34m=\u001b[0m \u001b[0mnum1\u001b[0m \u001b[0;34m/\u001b[0m \u001b[0mnum2\u001b[0m\u001b[0;34m\u001b[0m\u001b[0;34m\u001b[0m\u001b[0m\n\u001b[0m\u001b[1;32m      4\u001b[0m     \u001b[0mprint\u001b[0m\u001b[0;34m(\u001b[0m\u001b[0mresultado\u001b[0m\u001b[0;34m)\u001b[0m\u001b[0;34m\u001b[0m\u001b[0;34m\u001b[0m\u001b[0m\n",
      "\u001b[0;31mZeroDivisionError\u001b[0m: division by zero"
     ]
    }
   ],
   "source": [
    "# Execução gerando erro\n",
    "numDiv(4,0)"
   ]
  },
  {
   "cell_type": "markdown",
   "metadata": {
    "id": "1pE4KLE2nZRJ"
   },
   "source": [
    "Desta vez, você encontrou um **erro de exceção**. Esse tipo ocorre sempre que o código Python está sintaticamente correto, porém resulta em um erro. A última linha da mensagem indicava que tipo de erro de exceção você encontrou:\n",
    "\n",
    "```ZeroDivisionError: division by zero```\n"
   ]
  },
  {
   "cell_type": "markdown",
   "metadata": {
    "id": "QkLnQhvaorsR"
   },
   "source": [
    "> Exceções são objetos especiais que Python usa para administrar erros que porventura surgirão durante a execução de um programa. Sempre que ocorre um erro e Python não sabe o que fazer a seguir, um objeto de exceção é criado. Se você escrever um código de tratamento de exceções, o programa continuará em execução. Se a exceção não for tratada, o programa irá parar e um _traceback_ (rastreamento) incluindo informações sobre a exceção levantada será exibido.\n"
   ]
  },
  {
   "cell_type": "markdown",
   "metadata": {
    "id": "naJAeOSjqjZd"
   },
   "source": [
    "## **Try, Except, Finally: Tratamento de Exceções**\n",
    "\n",
    "![try_except_block.webp](data:image/webp;base64,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)"
   ]
  },
  {
   "cell_type": "markdown",
   "metadata": {
    "id": "XZUlX4T8qDBP"
   },
   "source": [
    "O bloco `try`/`except` é usado para capturar e tratar exceções. Python executa o código seguindo a instrução `try` como a parte “**normal**” do programa. O código que segue a instrução `except` é a resposta do programa a quaisquer exceções na cláusula `try` anterior."
   ]
  },
  {
   "cell_type": "markdown",
   "metadata": {
    "id": "9X1DKgmOr-K0"
   },
   "source": [
    "### Observação importante:\n",
    "**Ao usar blocos `try/except`, seus programas continuarão a executar, mesmo que algo comece a dar errado. Em vez de _tracebacks_, que podem ser confusos para os usuários lerem, os usuários verão mensagens de erro simpáticas escritas por você.**\n"
   ]
  },
  {
   "cell_type": "code",
   "execution_count": null,
   "metadata": {
    "colab": {
     "base_uri": "https://localhost:8080/",
     "height": 182
    },
    "id": "ZkSqJHI_qjZe",
    "outputId": "73987d46-1d0f-4b4c-b169-814916e17643"
   },
   "outputs": [
    {
     "ename": "TypeError",
     "evalue": "ignored",
     "output_type": "error",
     "traceback": [
      "\u001b[0;31m---------------------------------------------------------------------------\u001b[0m",
      "\u001b[0;31mTypeError\u001b[0m                                 Traceback (most recent call last)",
      "\u001b[0;32m<ipython-input-2-963470595b1e>\u001b[0m in \u001b[0;36m<cell line: 1>\u001b[0;34m()\u001b[0m\n\u001b[0;32m----> 1\u001b[0;31m \u001b[0;36m8\u001b[0m \u001b[0;34m+\u001b[0m \u001b[0;34m's'\u001b[0m\u001b[0;34m\u001b[0m\u001b[0;34m\u001b[0m\u001b[0m\n\u001b[0m",
      "\u001b[0;31mTypeError\u001b[0m: unsupported operand type(s) for +: 'int' and 'str'"
     ]
    }
   ],
   "source": [
    "8 + 's'"
   ]
  },
  {
   "cell_type": "code",
   "execution_count": null,
   "metadata": {
    "id": "SLcExuXwqjZe"
   },
   "outputs": [],
   "source": [
    "# Utilizando try e except\n",
    "try:\n",
    "    8 + 's'\n",
    "except TypeError:\n",
    "    print(\"Operação não permitida\")"
   ]
  },
  {
   "cell_type": "markdown",
   "metadata": {
    "id": "Zds-mUX94Hif"
   },
   "source": [
    "### **A cláusula `else`**\n",
    "\n",
    "#### Usando a instrução (ou cláusula) `else`, você pode instruir um programa a executar um determinado bloco de código apenas na ausência de exceções. Veja a figura abaixo."
   ]
  },
  {
   "cell_type": "markdown",
   "metadata": {
    "id": "vfOyo0Ha4bvB"
   },
   "source": [
    "![try_except_else.webp](data:image/webp;base64,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)"
   ]
  },
  {
   "cell_type": "code",
   "execution_count": null,
   "metadata": {
    "id": "L5szvLrsqjZe"
   },
   "outputs": [],
   "source": [
    "# Utilizando try, except e else\n",
    "try:\n",
    "    f = open('arquivos/testandoerros.txt','w')\n",
    "    f.write('Gravando no arquivo')\n",
    "except IOError:\n",
    "    print (\"Erro: arquivo não encontrado ou não pode ser salvo.\")\n",
    "else:\n",
    "    print (\"Conteúdo gravado com sucesso!\")\n",
    "    f.close()"
   ]
  },
  {
   "cell_type": "code",
   "execution_count": null,
   "metadata": {
    "id": "RuQdRrveqjZf"
   },
   "outputs": [],
   "source": [
    "# Utilizando try, except e else\n",
    "try:\n",
    "    f = open('arquivos/testandoerros','r')\n",
    "except IOError:\n",
    "    print (\"Erro: arquivo não encontrado ou não pode ser lido.\")\n",
    "else:\n",
    "    print (\"Conteúdo gravado com sucesso!\")\n",
    "    f.close()"
   ]
  },
  {
   "cell_type": "markdown",
   "metadata": {
    "id": "uhQQpSn85Hva"
   },
   "source": [
    "###**A Cláusula `finally`**\n",
    "\n",
    "Imagine que você sempre tivesse que implementar algum tipo de ação para limpar após executar seu código. Python permite que você faça isso usando a cláusula `finally`.\n",
    "\n",
    "![try_except_else_finally.webp](data:image/webp;base64,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)"
   ]
  },
  {
   "cell_type": "code",
   "execution_count": null,
   "metadata": {
    "id": "SLVyks5yqjZf"
   },
   "outputs": [],
   "source": [
    "try:\n",
    "    f = open('arquivos/testandoerros.txt','w')\n",
    "    f.write('Gravando no arquivo')\n",
    "except IOError:\n",
    "    print (\"Erro: arquivo não encontrado ou não pode ser salvo.\")\n",
    "else:\n",
    "    print (\"Conteúdo gravado com sucesso!\")\n",
    "    f.close()\n",
    "finally:\n",
    "    print (\"Comandos no bloco finally são sempre executados!\")"
   ]
  },
  {
   "cell_type": "code",
   "execution_count": null,
   "metadata": {
    "id": "N40TnYeiqjZg"
   },
   "outputs": [],
   "source": [
    "def askint():\n",
    "  try:\n",
    "      val = int((input(\"Digite um número: \")))\n",
    "  except UnboundLocalError:\n",
    "      print (\"Você não digitou um número!\")\n",
    "  finally:\n",
    "      print (\"Obrigado!\")\n",
    "      print (val)"
   ]
  },
  {
   "cell_type": "code",
   "execution_count": null,
   "metadata": {
    "id": "FS6DGOumqjZg"
   },
   "outputs": [],
   "source": [
    "askint()"
   ]
  },
  {
   "cell_type": "code",
   "execution_count": null,
   "metadata": {
    "id": "r2GC5_KvqjZg"
   },
   "outputs": [],
   "source": [
    "def askint():\n",
    "  try:\n",
    "      val = int(input(\"Digite um número: \"))\n",
    "  except:\n",
    "      print (\"Você não digitou um número!\")\n",
    "      val = int(input(\"Tente novamente. Digite um número: \"))\n",
    "  finally:\n",
    "      print (\"Obrigado!\")\n",
    "  print (val)"
   ]
  },
  {
   "cell_type": "code",
   "execution_count": null,
   "metadata": {
    "id": "dsuas2Q-qjZh"
   },
   "outputs": [],
   "source": [
    "askint()"
   ]
  },
  {
   "cell_type": "code",
   "execution_count": null,
   "metadata": {
    "id": "vx96Of6xqjZh"
   },
   "outputs": [],
   "source": [
    "def askint():\n",
    "  while True:\n",
    "      try:\n",
    "          val = int(input(\"Digite um número: \"))\n",
    "      except:\n",
    "          print (\"Você não digitou um número!\")\n",
    "          continue\n",
    "      else:\n",
    "          print (\"Obrigado por digitar um número!\")\n",
    "          break\n",
    "      finally:\n",
    "          print(\"Fim da execução!\")\n",
    "      print (val)"
   ]
  },
  {
   "cell_type": "code",
   "execution_count": null,
   "metadata": {
    "id": "zOXP3g0dqjZh"
   },
   "outputs": [],
   "source": [
    "askint()"
   ]
  },
  {
   "cell_type": "code",
   "execution_count": null,
   "metadata": {
    "id": "0hG-P_KvqjZi"
   },
   "outputs": [],
   "source": [
    "tuple = (1,2,3,4,5)\n",
    "try:\n",
    "    tuple.append(6)\n",
    "    for each in tuple:\n",
    "        print(each)\n",
    "except AttributeError as e:\n",
    "    print('Erro: ', e)\n",
    "except IOError as e:\n",
    "    print('Erro de I/O:', e)"
   ]
  },
  {
   "cell_type": "markdown",
   "metadata": {
    "id": "mxLA8ep1CWYs"
   },
   "source": [
    "## **Gerando (_raising_) uma Exceção**\n",
    "\n",
    "Podemos usar o comando `raise` para lançar uma exceção se ocorrer uma condição. A instrução pode ser complementada com uma exceção personalizada.\n",
    "\n",
    "![raise_exception.webp](data:image/webp;base64,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)"
   ]
  },
  {
   "cell_type": "markdown",
   "metadata": {
    "id": "fiLIkEC6C2k8"
   },
   "source": [
    "Se você quiser lançar um erro quando uma determinada condição ocorrer usando `raise`, você poderia fazer assim:"
   ]
  },
  {
   "cell_type": "code",
   "execution_count": null,
   "metadata": {
    "id": "F4GLMi11DtPO"
   },
   "outputs": [],
   "source": [
    "x = 10\n",
    "if x > 5:\n",
    "  raise Exception(f'x não pode exceder o valor 5. O valor de x era: {x}')"
   ]
  },
  {
   "cell_type": "markdown",
   "metadata": {
    "id": "a0XnVJi6EPGX"
   },
   "source": [
    "> O programa para e exibe nossa exceção na tela, oferecendo pistas sobre o que deu errado."
   ]
  },
  {
   "cell_type": "markdown",
   "metadata": {
    "id": "3Es9VfOPEiFz"
   },
   "source": [
    "## **A Exceção `AssertionError`**\n",
    "\n",
    "Em vez de esperar que um programa trave no meio do caminho, você também pode começar fazendo uma *afirmação* em Python. Afirmamos que uma certa condição é atendida. Se esta condição for `True`, então isso é excelente! O programa pode continuar. Se a condição for `False`, você poderá fazer com que o programa lance uma exceção `AssertionError`.\n",
    "\n",
    "![assertion_error_exception.webp](data:image/webp;base64,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)"
   ]
  },
  {
   "cell_type": "markdown",
   "metadata": {
    "id": "qCjpX7NOGQe0"
   },
   "source": [
    "Observe alguns exemplos do comando `assert`"
   ]
  },
  {
   "cell_type": "code",
   "execution_count": null,
   "metadata": {
    "id": "VM_KiDnNE9dy"
   },
   "outputs": [],
   "source": [
    "# verificação de précondições\n",
    "def divide(a, b):\n",
    "  assert b != 0, \"O divisor não pode ser zero\"\n",
    "  return a / b\n",
    "\n",
    "result = divide(10, 2)  # Isso funciona bem\n",
    "result = divide(10, 0)  # Isso levanta um AssertionError\n"
   ]
  },
  {
   "cell_type": "markdown",
   "metadata": {
    "id": "V_aon0RLHVt4"
   },
   "source": [
    "> Neste exemplo, usamos o `assert` para verificar se o divisor não é zero antes de realizar a divisão. Se a condição **não** for atendida, um `AssertionError` é levantado com a mensagem personalizada."
   ]
  },
  {
   "cell_type": "code",
   "execution_count": 23,
   "metadata": {
    "id": "yuxpxzXvGsuO"
   },
   "outputs": [],
   "source": [
    "# teste unitários\n",
    "def add(a, b):\n",
    "  return a + b\n",
    "\n",
    "def test_add():\n",
    "  assert add(2, 3) == 5, \"A função add() não está funcionando corretamente\"\n",
    "  assert add(0, 0) == 0, \"A função add() não está funcionando corretamente\"\n",
    "  assert add(-1, 1) == 0, \"A função add() não está funcionando corretamente\"\n",
    "\n",
    "test_add()\n"
   ]
  },
  {
   "cell_type": "markdown",
   "metadata": {
    "id": "_xUJOgFsHef4"
   },
   "source": [
    "> Se uma das asserções falhar, o teste levantará um `AssertionError` com a mensagem associada."
   ]
  },
  {
   "cell_type": "code",
   "execution_count": null,
   "metadata": {
    "id": "M02vaTRrHBqr"
   },
   "outputs": [],
   "source": [
    "# depuração de código\n",
    "def calculate_square_root(x):\n",
    "  assert x >= 0, \"Não é possível calcular a raiz quadrada de um número negativo\"\n",
    "  return x ** 0.5\n",
    "\n",
    "result = calculate_square_root(-4)  # Isso levanta um AssertionError durante a depuração\n"
   ]
  },
  {
   "cell_type": "markdown",
   "metadata": {
    "id": "kpzxnzxpHlGf"
   },
   "source": [
    "> Usamos `assert` para verificar se o número passado para a função `calculate_square_root()` é positivo. Se não for, um `AssertionError` é levantado para indicar que há um problema em algum lugar do código."
   ]
  },
  {
   "cell_type": "markdown",
   "metadata": {
    "id": "aurcHPkr6gve"
   },
   "source": [
    "**A tabela abaixo resume o que vimos sobre `try/except, else e finally`**\n",
    "\n",
    "| Cláusula      | Descrição |\n",
    "| ----------- | ----------- |\n",
    "| `try`      | todas as instruções são executadas até que uma exceção seja encontrada.|\n",
    "| `except`   | usada para capturar e tratar as exceções encontradas na cláusula `try`|\n",
    "| `else`      | permite codificar seções que devem ser executadas somente quando nenhuma exceção for encontrada na cláusula `try` |\n",
    "| `finally`      | permite executar seções de código que sempre devem ser executadas, com ou sem exceções encontradas anteriormente. |\n",
    "| `raise`    | permite que você lance uma exceção a qualquer momento. |\n",
    "| `assert` | permite verificar se uma determinada condição foi atendida e lançar uma exceção se não for. |\n"
   ]
  },
  {
   "cell_type": "markdown",
   "metadata": {
    "id": "ZHFJBzUr8uDH"
   },
   "source": [
    "### **Para resumir:**\n",
    "\n",
    "*   **Erros**\n",
    "  * Representam condições como erro de compilação, erro de sintaxe, erro na parte lógica do código, incompatibilidade de biblioteca, recursão infinita, etc.\n",
    "\n",
    "  * Geralmente estão além do controle do programador e não devemos tentar lidar com eles.\n",
    "\n",
    "*   **Exceções**\n",
    "\n",
    "  * Podem ser capturadas e tratadas pelo programa.\n",
    "\n",
    "\n",
    "\n"
   ]
  },
  {
   "cell_type": "markdown",
   "metadata": {
    "id": "hVNZgPmDqjZj"
   },
   "source": [
    "Uma lista completa de exceções em Python, pode ser encontrada aqui:\n",
    "\n",
    "https://docs.python.org/pt-br/3.11/library/exceptions.html"
   ]
  }
 ],
 "metadata": {
  "colab": {
   "provenance": []
  },
  "kernelspec": {
   "display_name": "Python 3",
   "language": "python",
   "name": "python3"
  },
  "language_info": {
   "codemirror_mode": {
    "name": "ipython",
    "version": 3
   },
   "file_extension": ".py",
   "mimetype": "text/x-python",
   "name": "python",
   "nbconvert_exporter": "python",
   "pygments_lexer": "ipython3",
   "version": "3.12.8"
  }
 },
 "nbformat": 4,
 "nbformat_minor": 0
}
