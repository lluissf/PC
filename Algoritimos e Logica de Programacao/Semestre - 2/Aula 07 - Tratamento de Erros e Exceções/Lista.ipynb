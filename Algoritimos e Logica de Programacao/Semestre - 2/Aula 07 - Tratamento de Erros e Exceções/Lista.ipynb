{
 "cells": [
  {
   "cell_type": "markdown",
   "metadata": {},
   "source": [
    "1. Escreva uma função que recebe dois números como argumentos e retorna a\n",
    "divisão do primeiro pelo segundo. Use um bloco try/except para tratar o caso em\n",
    "que o segundo número é zero e lance uma exceção personalizada com a\n",
    "mensagem \"Divisão por zero não permitida\"."
   ]
  },
  {
   "cell_type": "code",
   "execution_count": 3,
   "metadata": {},
   "outputs": [
    {
     "data": {
      "text/plain": [
       "'Divisão por zero não é permitida.'"
      ]
     },
     "execution_count": 3,
     "metadata": {},
     "output_type": "execute_result"
    }
   ],
   "source": [
    "def dividir(num1, num2):\n",
    "    try:\n",
    "        return num1 / num2\n",
    "    except:\n",
    "        return \"Divisão por zero não é permitida.\"\n",
    "\n",
    "dividir(5, 0)"
   ]
  },
  {
   "cell_type": "markdown",
   "metadata": {},
   "source": [
    "2. Escreva um programa que solicita ao usuário uma data no formato \"dd/mm/aaaa\"\n",
    "e verifica se ela é válida. Use um bloco `try/except` para tratar o caso em que o\n",
    "usuário digita uma data inválida e lance uma exceção personalizada com a\n",
    "mensagem “Data inválida”."
   ]
  },
  {
   "cell_type": "code",
   "execution_count": null,
   "metadata": {},
   "outputs": [
    {
     "data": {
      "text/plain": [
       "'Data é Válida.'"
      ]
     },
     "execution_count": 6,
     "metadata": {},
     "output_type": "execute_result"
    }
   ],
   "source": [
    "def verificar_data(date):\n",
    "    try: \n",
    "        data = date.split('/')\n",
    "        dia = data[0]\n",
    "        mes = data[1]\n",
    "        ano = data[2]\n",
    "        return \"Data é Válida.\"\n",
    "    except:\n",
    "        return \"Data inválida\"\n",
    "    \n",
    "verificar_data(\"11/12/2024\")"
   ]
  },
  {
   "cell_type": "markdown",
   "metadata": {},
   "source": [
    "3. Escreva uma função que recebe uma lista de números como argumento e retorna a\n",
    "soma dos elementos da lista. Use um bloco `try/except` para tratar o caso em que\n",
    "a lista contém algum elemento que não é um número e lance uma exceção\n",
    "personalizada com a mensagem “Lista inválida”."
   ]
  },
  {
   "cell_type": "code",
   "execution_count": null,
   "metadata": {},
   "outputs": [
    {
     "data": {
      "text/plain": [
       "15"
      ]
     },
     "execution_count": 15,
     "metadata": {},
     "output_type": "execute_result"
    }
   ],
   "source": [
    "def somar_lista(lista): \n",
    "    try: \n",
    "        return sum(lista)\n",
    "    except:\n",
    "        return \"Lista Inválida.\"\n",
    "\n",
    "lista_num = [0, 1, 2, 3, 4, 5]\n",
    "somar_lista(lista_num)"
   ]
  },
  {
   "cell_type": "markdown",
   "metadata": {},
   "source": [
    "4. Escreva um programa que solicita ao usuário um nome de arquivo e tenta abri-lo\n",
    "para leitura. Use um bloco `try/except` para tratar o caso em que o arquivo não\n",
    "existe ou não pode ser aberto e lance uma exceção personalizada com a\n",
    "mensagem “Arquivo inválido”."
   ]
  },
  {
   "cell_type": "code",
   "execution_count": 1,
   "metadata": {},
   "outputs": [
    {
     "data": {
      "text/plain": [
       "'Arquivo inválido.'"
      ]
     },
     "execution_count": 1,
     "metadata": {},
     "output_type": "execute_result"
    }
   ],
   "source": [
    "def abrir_arquivo():\n",
    "    nome_programa = input(\"Insira o nome do programa\")\n",
    "    try:\n",
    "        \n",
    "        with open(nome_programa+\".txt\", \"r\") as file:\n",
    "            file.read()\n",
    "    except:\n",
    "        return \"Arquivo inválido.\"\n",
    "\n",
    "abrir_arquivo()"
   ]
  },
  {
   "cell_type": "markdown",
   "metadata": {},
   "source": [
    "5. Escreva um código que tente abrir um arquivo com o modo de escrita, porém o\n",
    "arquivo já existe. Se ocorrer uma exceção, imprima uma mensagem de erro."
   ]
  },
  {
   "cell_type": "code",
   "execution_count": 2,
   "metadata": {},
   "outputs": [],
   "source": [
    "try: \n",
    "    with open('arquivo.txt', 'w') as file:\n",
    "        file.write(\"Conteúdo do arquivo.\")\n",
    "except IOError as e: \n",
    "    print(f\"Ocorreu um erro ao tentar abrir o arquivo: {e}\")"
   ]
  },
  {
   "cell_type": "markdown",
   "metadata": {},
   "source": [
    "6. Escreva uma função que recebe um número inteiro positivo como argumento e\n",
    "retorna o fatorial desse número. Use um bloco `try/except` para tratar o caso em\n",
    "que o argumento é negativo ou não é um inteiro e lance uma exceção\n",
    "personalizada com a mensagem “Argumento inválido”.\n"
   ]
  },
  {
   "cell_type": "code",
   "execution_count": null,
   "metadata": {},
   "outputs": [],
   "source": [
    "def calcular_fatorial(numero):\n",
    "    try:\n",
    "        if not isinstance(numero, int) or numero < 0:\n",
    "            raise ValueError(\"Argumento inválido\")\n",
    "        fatorial = 1\n",
    "        for i in range(1, numero + 1):\n",
    "            fatorial *= i\n",
    "        return fatorial\n",
    "    except ValueError as e:\n",
    "        print(e)\n"
   ]
  },
  {
   "cell_type": "markdown",
   "metadata": {},
   "source": [
    "7. Escreva uma função que recebe uma string como argumento e retorna o número\n",
    "de vogais contidas nessa string. Use um bloco `try/except` para tratar o caso em\n",
    "que o argumento não é uma string e lance uma exceção personalizada com a\n",
    "mensagem “Argumento inválido”."
   ]
  },
  {
   "cell_type": "code",
   "execution_count": null,
   "metadata": {},
   "outputs": [],
   "source": [
    "def contar_vogais(texto):\n",
    "    try:\n",
    "        if not isinstance(texto, str):\n",
    "            raise ValueError(\"Argumento inválido\")\n",
    "        vogais = \"aeiouAEIOU\"\n",
    "        return sum(1 for char in texto if char in vogais)\n",
    "    except ValueError as e:\n",
    "        print(e)"
   ]
  },
  {
   "cell_type": "markdown",
   "metadata": {},
   "source": [
    "8. Escreva uma função que recebe uma lista de strings como argumento e retorna\n",
    "uma nova lista com estas strings ordenadas alfabeticamente. Use um bloco\n",
    "`try/except` para tratar o caso em que a lista contém algum elemento que não é\n",
    "uma string e lance uma exceção personalizada com a mensagem “Lista inválida”.\n",
    "Disciplina: Algoritmos e Programação II\n",
    "Professor: Paulo César Fernandes de Oliveira, BSc, PhD"
   ]
  },
  {
   "cell_type": "code",
   "execution_count": 3,
   "metadata": {},
   "outputs": [],
   "source": [
    "def ordenar_lista_strings(lista):\n",
    "    try:\n",
    "        if not all(isinstance(item, str) for item in lista):\n",
    "            raise ValueError(\"Lista inválida\")\n",
    "        return sorted(lista)\n",
    "    except ValueError as e:\n",
    "        print(e)\n"
   ]
  },
  {
   "cell_type": "markdown",
   "metadata": {},
   "source": [
    "9. Escreva um programa que solicite ao usuário um índice e, em seguida, tente\n",
    "acessar um elemento em uma lista. Trate exceções caso o índice esteja fora dos\n",
    "limites da lista."
   ]
  },
  {
   "cell_type": "code",
   "execution_count": null,
   "metadata": {},
   "outputs": [],
   "source": [
    "def acessar_lista(lista):\n",
    "    try:\n",
    "        indice = int(input(\"Digite um índice: \"))\n",
    "        print(lista[indice])\n",
    "    except IndexError:\n",
    "        print(\"Índice fora dos limites da lista.\")\n",
    "    except ValueError:\n",
    "        print(\"Digite um número inteiro válido.\")\n"
   ]
  },
  {
   "cell_type": "markdown",
   "metadata": {},
   "source": [
    "10. Peça ao usuário para digitar um número inteiro e, em seguida, tente converter\n",
    "esse número em uma string. Trate a exceção que pode ocorrer."
   ]
  },
  {
   "cell_type": "code",
   "execution_count": null,
   "metadata": {},
   "outputs": [],
   "source": [
    "def converter_para_inteiro():\n",
    "    try:\n",
    "        numero = int(input(\"Digite um número inteiro: \"))\n",
    "        print(f\"Número convertido: {numero}\")\n",
    "    except ValueError:\n",
    "        print(\"Erro: Entrada inválida. Por favor, digite um número inteiro.\")\n"
   ]
  },
  {
   "cell_type": "markdown",
   "metadata": {},
   "source": [
    "\n",
    "11. Crie um programa que leia as configurações de um arquivo e trate exceções caso o\n",
    "arquivo contenha erros de formatação."
   ]
  },
  {
   "cell_type": "code",
   "execution_count": null,
   "metadata": {},
   "outputs": [],
   "source": [
    "def ler_arquivo_configuracao(nome_arquivo):\n",
    "    try:\n",
    "        with open(nome_arquivo, 'r') as arquivo:\n",
    "            conteudo = arquivo.readlines()\n",
    "            for linha in conteudo:\n",
    "                if \"=\" not in linha:\n",
    "                    raise ValueError(\"Erro de formatação no arquivo.\")\n",
    "        print(\"Configurações lidas com sucesso.\")\n",
    "    except FileNotFoundError:\n",
    "        print(\"Arquivo não encontrado.\")\n",
    "    except ValueError as e:\n",
    "        print(e)\n"
   ]
  },
  {
   "cell_type": "markdown",
   "metadata": {},
   "source": [
    "\n",
    "12. Peça ao usuário para digitar uma chave e, em seguida, tente acessar um valor em\n",
    "um dicionário. Trate exceções caso a chave não exista."
   ]
  },
  {
   "cell_type": "code",
   "execution_count": 4,
   "metadata": {},
   "outputs": [],
   "source": [
    "def acessar_dicionario(dicionario):\n",
    "    try:\n",
    "        chave = input(\"Digite a chave que deseja acessar: \")\n",
    "        print(f\"Valor: {dicionario[chave]}\")\n",
    "    except KeyError:\n",
    "        print(\"Erro: Chave não encontrada.\")\n"
   ]
  },
  {
   "cell_type": "markdown",
   "metadata": {},
   "source": [
    " \n",
    "13. Escreva um programa que trate uma exceção genérica, como `Exception`, e\n",
    "imprima uma mensagem personalizada."
   ]
  },
  {
   "cell_type": "code",
   "execution_count": null,
   "metadata": {},
   "outputs": [],
   "source": [
    "try:\n",
    "    resultado = 1 / 0\n",
    "except Exception as e:\n",
    "    print(f\"Erro: {e}\")\n"
   ]
  },
  {
   "cell_type": "markdown",
   "metadata": {},
   "source": [
    "\n",
    "14. Crie um programa que peça ao usuário para digitar uma senha com pelo menos 8\n",
    "caracteres. Trate exceções caso a senha seja muito curta."
   ]
  },
  {
   "cell_type": "code",
   "execution_count": 5,
   "metadata": {},
   "outputs": [],
   "source": [
    "def validar_senha():\n",
    "    try:\n",
    "        senha = input(\"Digite uma senha: \")\n",
    "        if len(senha) < 8:\n",
    "            raise ValueError(\"Erro: Senha muito curta. Deve ter pelo menos 8 caracteres.\")\n",
    "        print(\"Senha válida.\")\n",
    "    except ValueError as e:\n",
    "        print(e)\n"
   ]
  },
  {
   "cell_type": "markdown",
   "metadata": {},
   "source": [
    "\n",
    "15. Escreva um programa que divida uma lista em partes iguais e trate exceções se o\n",
    "número de partes não for válido."
   ]
  },
  {
   "cell_type": "code",
   "execution_count": 6,
   "metadata": {},
   "outputs": [],
   "source": [
    "def dividir_lista(lista, partes):\n",
    "    try:\n",
    "        if len(lista) % partes != 0:\n",
    "            raise ValueError(\"Número de partes inválido.\")\n",
    "        tamanho = len(lista) // partes\n",
    "        return [lista[i:i + tamanho] for i in range(0, len(lista), tamanho)]\n",
    "    except ValueError as e:\n",
    "        print(e)\n"
   ]
  },
  {
   "cell_type": "markdown",
   "metadata": {},
   "source": [
    "16. Escreva um programa que manipule múltiplas exceções em um bloco `try/except`."
   ]
  },
  {
   "cell_type": "code",
   "execution_count": 7,
   "metadata": {},
   "outputs": [
    {
     "name": "stdout",
     "output_type": "stream",
     "text": [
      "Erro: Entrada inválida.\n"
     ]
    }
   ],
   "source": [
    "try:\n",
    "    x = int(input(\"Digite um número: \"))\n",
    "    y = int(input(\"Digite outro número: \"))\n",
    "    print(x / y)\n",
    "except ZeroDivisionError:\n",
    "    print(\"Erro: Divisão por zero.\")\n",
    "except ValueError:\n",
    "    print(\"Erro: Entrada inválida.\")\n"
   ]
  },
  {
   "cell_type": "markdown",
   "metadata": {},
   "source": [
    "17. Escreva um programa que contenha um loop infinito e trate exceções para permitir\n",
    "ao usuário interrompê-lo."
   ]
  },
  {
   "cell_type": "code",
   "execution_count": 8,
   "metadata": {},
   "outputs": [],
   "source": [
    "while True:\n",
    "    try:\n",
    "        comando = input(\"Digite 'sair' para interromper: \")\n",
    "        if comando.lower() == 'sair':\n",
    "            break\n",
    "    except KeyboardInterrupt:\n",
    "        print(\"\\nInterrupção do usuário.\")\n",
    "        break\n"
   ]
  },
  {
   "cell_type": "markdown",
   "metadata": {},
   "source": [
    "\n",
    "18. Crie um programa que trate exceções aninhadas em um bloco `try/except`."
   ]
  },
  {
   "cell_type": "code",
   "execution_count": null,
   "metadata": {},
   "outputs": [],
   "source": [
    "try:\n",
    "    try:\n",
    "        x = int(input(\"Digite um número: \"))\n",
    "        print(10 / x)\n",
    "    except ZeroDivisionError:\n",
    "        print(\"Erro: Divisão por zero.\")\n",
    "except ValueError:\n",
    "    print(\"Erro: Entrada inválida.\")\n"
   ]
  },
  {
   "cell_type": "markdown",
   "metadata": {},
   "source": [
    "\n",
    "\n",
    "\n",
    "19. Escreva um programa que utilize o bloco `else` para tratar exceções."
   ]
  },
  {
   "cell_type": "code",
   "execution_count": 9,
   "metadata": {},
   "outputs": [
    {
     "name": "stdout",
     "output_type": "stream",
     "text": [
      "invalid literal for int() with base 10: ''\n"
     ]
    }
   ],
   "source": [
    "try:\n",
    "    x = int(input(\"Digite um número positivo: \"))\n",
    "    if x < 0:\n",
    "        raise ValueError(\"Número negativo.\")\n",
    "except ValueError as e:\n",
    "    print(e)\n",
    "else:\n",
    "    print(f\"Número válido: {x}\")\n"
   ]
  }
 ],
 "metadata": {
  "kernelspec": {
   "display_name": "Python 3",
   "language": "python",
   "name": "python3"
  },
  "language_info": {
   "codemirror_mode": {
    "name": "ipython",
    "version": 3
   },
   "file_extension": ".py",
   "mimetype": "text/x-python",
   "name": "python",
   "nbconvert_exporter": "python",
   "pygments_lexer": "ipython3",
   "version": "3.12.8"
  }
 },
 "nbformat": 4,
 "nbformat_minor": 2
}
