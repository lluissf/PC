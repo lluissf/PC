{
 "cells": [
  {
   "cell_type": "markdown",
   "metadata": {},
   "source": [
    "1. Escreva uma função que recebe dois números como argumentos e retorna a\n",
    "divisão do primeiro pelo segundo. Use um bloco try/except para tratar o caso em\n",
    "que o segundo número é zero e lance uma exceção personalizada com a\n",
    "mensagem \"Divisão por zero não permitida\"."
   ]
  },
  {
   "cell_type": "code",
   "execution_count": 3,
   "metadata": {},
   "outputs": [
    {
     "data": {
      "text/plain": [
       "'Divisão por zero não é permitida.'"
      ]
     },
     "execution_count": 3,
     "metadata": {},
     "output_type": "execute_result"
    }
   ],
   "source": [
    "def dividir(num1, num2):\n",
    "    try:\n",
    "        return num1 / num2\n",
    "    except:\n",
    "        return \"Divisão por zero não é permitida.\"\n",
    "\n",
    "dividir(5, 0)"
   ]
  },
  {
   "cell_type": "markdown",
   "metadata": {},
   "source": [
    "2. Escreva um programa que solicita ao usuário uma data no formato \"dd/mm/aaaa\"\n",
    "e verifica se ela é válida. Use um bloco `try/except` para tratar o caso em que o\n",
    "usuário digita uma data inválida e lance uma exceção personalizada com a\n",
    "mensagem “Data inválida”."
   ]
  },
  {
   "cell_type": "code",
   "execution_count": null,
   "metadata": {},
   "outputs": [
    {
     "data": {
      "text/plain": [
       "'Data é Válida.'"
      ]
     },
     "execution_count": 6,
     "metadata": {},
     "output_type": "execute_result"
    }
   ],
   "source": [
    "def verificar_data(date):\n",
    "    try: \n",
    "        data = date.split('/')\n",
    "        dia = data[0]\n",
    "        mes = data[1]\n",
    "        ano = data[2]\n",
    "        return \"Data é Válida.\"\n",
    "    except:\n",
    "        return \"Data inválida\"\n",
    "    \n",
    "verificar_data(\"11/12/2024\")"
   ]
  },
  {
   "cell_type": "markdown",
   "metadata": {},
   "source": [
    "3. Escreva uma função que recebe uma lista de números como argumento e retorna a\n",
    "soma dos elementos da lista. Use um bloco `try/except` para tratar o caso em que\n",
    "a lista contém algum elemento que não é um número e lance uma exceção\n",
    "personalizada com a mensagem “Lista inválida”."
   ]
  },
  {
   "cell_type": "code",
   "execution_count": null,
   "metadata": {},
   "outputs": [
    {
     "data": {
      "text/plain": [
       "15"
      ]
     },
     "execution_count": 15,
     "metadata": {},
     "output_type": "execute_result"
    }
   ],
   "source": [
    "def somar_lista(lista): \n",
    "    try: \n",
    "        return sum(lista)\n",
    "    except:\n",
    "        return \"Lista Inválida.\"\n",
    "\n",
    "lista_num = [0, 1, 2, 3, 4, 5]\n",
    "somar_lista(lista_num)"
   ]
  },
  {
   "cell_type": "markdown",
   "metadata": {},
   "source": [
    "4. Escreva um programa que solicita ao usuário um nome de arquivo e tenta abri-lo\n",
    "para leitura. Use um bloco `try/except` para tratar o caso em que o arquivo não\n",
    "existe ou não pode ser aberto e lance uma exceção personalizada com a\n",
    "mensagem “Arquivo inválido”."
   ]
  },
  {
   "cell_type": "code",
   "execution_count": 16,
   "metadata": {},
   "outputs": [
    {
     "data": {
      "text/plain": [
       "'Arquivo inválido.'"
      ]
     },
     "execution_count": 16,
     "metadata": {},
     "output_type": "execute_result"
    }
   ],
   "source": [
    "def abrir_arquivo(arquivo):\n",
    "    try:\n",
    "        with open(arquivo, \"r\") as file:\n",
    "            file.read()\n",
    "    except:\n",
    "        return \"Arquivo inválido.\"\n",
    "\n",
    "abrir_arquivo(\"naotem.txt\")"
   ]
  },
  {
   "cell_type": "markdown",
   "metadata": {},
   "source": [
    "\n",
    "\n",
    "\n",
    "\n",
    "\n",
    "5. Escreva um código que tente abrir um arquivo com o modo de escrita, porém o\n",
    "arquivo já existe. Se ocorrer uma exceção, imprima uma mensagem de erro.\n",
    "\n",
    "6. Escreva uma função que recebe um número inteiro positivo como argumento e\n",
    "retorna o fatorial desse número. Use um bloco `try/except` para tratar o caso em\n",
    "que o argumento é negativo ou não é um inteiro e lance uma exceção\n",
    "personalizada com a mensagem “Argumento inválido”.\n",
    "7. Escreva uma função que recebe uma string como argumento e retorna o número\n",
    "de vogais contidas nessa string. Use um bloco `try/except` para tratar o caso em\n",
    "que o argumento não é uma string e lance uma exceção personalizada com a\n",
    "mensagem “Argumento inválido”.\n",
    "8. Escreva uma função que recebe uma lista de strings como argumento e retorna\n",
    "uma nova lista com estas strings ordenadas alfabeticamente. Use um bloco\n",
    "`try/except` para tratar o caso em que a lista contém algum elemento que não é\n",
    "uma string e lance uma exceção personalizada com a mensagem “Lista inválida”.\n",
    "\n",
    "Disciplina: Algoritmos e Programação II\n",
    "Professor: Paulo César Fernandes de Oliveira, BSc, PhD\n",
    "\n",
    "9. Escreva um programa que solicite ao usuário um índice e, em seguida, tente\n",
    "acessar um elemento em uma lista. Trate exceções caso o índice esteja fora dos\n",
    "limites da lista.\n",
    "10. Peça ao usuário para digitar um número inteiro e, em seguida, tente converter\n",
    "esse número em uma string. Trate a exceção que pode ocorrer.\n",
    "\n",
    "11. Crie um programa que leia as configurações de um arquivo e trate exceções caso o\n",
    "arquivo contenha erros de formatação.\n",
    "12. Peça ao usuário para digitar uma chave e, em seguida, tente acessar um valor em\n",
    "um dicionário. Trate exceções caso a chave não exista.\n",
    "13. Escreva um programa que trate uma exceção genérica, como `Exception`, e\n",
    "imprima uma mensagem personalizada.\n",
    "14. Crie um programa que peça ao usuário para digitar uma senha com pelo menos 8\n",
    "caracteres. Trate exceções caso a senha seja muito curta.\n",
    "15. Escreva um programa que divida uma lista em partes iguais e trate exceções se o\n",
    "número de partes não for válido.\n",
    "16. Escreva um programa que manipule múltiplas exceções em um bloco `try/except`.\n",
    "17. Escreva um programa que contenha um loop infinito e trate exceções para permitir\n",
    "ao usuário interrompê-lo.\n",
    "18. Crie um programa que trate exceções aninhadas em um bloco `try/except`.\n",
    "19. Escreva um programa que utilize o bloco `else` para tratar exceções."
   ]
  }
 ],
 "metadata": {
  "kernelspec": {
   "display_name": "Python 3",
   "language": "python",
   "name": "python3"
  },
  "language_info": {
   "codemirror_mode": {
    "name": "ipython",
    "version": 3
   },
   "file_extension": ".py",
   "mimetype": "text/x-python",
   "name": "python",
   "nbconvert_exporter": "python",
   "pygments_lexer": "ipython3",
   "version": "3.12.8"
  }
 },
 "nbformat": 4,
 "nbformat_minor": 2
}
